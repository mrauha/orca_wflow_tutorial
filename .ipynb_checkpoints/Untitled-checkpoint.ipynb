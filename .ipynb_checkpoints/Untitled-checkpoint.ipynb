{
 "cells": [
  {
   "cell_type": "markdown",
   "metadata": {},
   "source": [
    "# Computational chemistry pipeline with a Jupyter notebook\n",
    "\n",
    "- Exercise for Spring school in comp chem 2019\n",
    "- Markus Rauhalahti, markus.rauhalahti@helsinki.fi, mrauha.github.io\n",
    "\n",
    "- For setting up, see README.md"
   ]
  },
  {
   "cell_type": "markdown",
   "metadata": {},
   "source": [
    "## Used libraries"
   ]
  },
  {
   "cell_type": "code",
   "execution_count": 75,
   "metadata": {},
   "outputs": [],
   "source": [
    "# General\n",
    "import os\n",
    "import copy\n",
    "\n",
    "# Data wrangling\n",
    "import pandas as pd\n",
    "import numpy as np\n",
    "import deepdish\n",
    "\n",
    "\n",
    "# Visualization\n",
    "import matplotlib.pyplot as plt\n",
    "%matplotlib inline\n",
    "\n",
    "import nglview\n",
    "from ase import Atoms\n",
    "import io\n",
    "import cclib\n",
    "\n",
    "# Cheminformatics\n",
    "from rdkit import Chem\n",
    "from rdkit.Chem import AllChem\n",
    "from rdkit.Chem import Descriptors\n",
    "\n",
    "from rdkit.Chem import PandasTools\n",
    "\n",
    "## For plotting molecules in the notebook\n",
    "from rdkit.Chem.Draw import IPythonConsole\n",
    "\n",
    "from rdkit.Chem import rdDepictor"
   ]
  },
  {
   "cell_type": "markdown",
   "metadata": {},
   "source": [
    "## Reading in the molecules\n",
    "\n",
    "- Fragrance dataset from [GDB](http://gdb.unibe.ch/)\n",
    "    - [Ruddigkeit, Lars, Mahendra Awale, and Jean-Louis Reymond. \"Expanding the fragrance chemical space for virtual screening.\" Journal of cheminformatics 6.1 (2014): 27](https://jcheminf.biomedcentral.com/articles/10.1186/1758-2946-6-27)\n",
    "- In Simplified molecular-input line-entry system (SMILES) format, see [wiki](https://en.wikipedia.org/wiki/Simplified_molecular-input_line-entry_system)\n",
    "    - String representation of molecular graph. Only connectivity, elements, valence, charge information - no 3D structures.\n",
    "   \n",
    "- We are reading the SMILES strings to a pandas dataframe"
   ]
  },
  {
   "cell_type": "code",
   "execution_count": 5,
   "metadata": {},
   "outputs": [],
   "source": [
    "df = pd.read_csv(\"fragrances.csv\")"
   ]
  },
  {
   "cell_type": "code",
   "execution_count": 6,
   "metadata": {},
   "outputs": [
    {
     "data": {
      "text/html": [
       "<div>\n",
       "<style scoped>\n",
       "    .dataframe tbody tr th:only-of-type {\n",
       "        vertical-align: middle;\n",
       "    }\n",
       "\n",
       "    .dataframe tbody tr th {\n",
       "        vertical-align: top;\n",
       "    }\n",
       "\n",
       "    .dataframe thead th {\n",
       "        text-align: right;\n",
       "    }\n",
       "</style>\n",
       "<table border=\"1\" class=\"dataframe\">\n",
       "  <thead>\n",
       "    <tr style=\"text-align: right;\">\n",
       "      <th></th>\n",
       "      <th>SMILES</th>\n",
       "    </tr>\n",
       "  </thead>\n",
       "  <tbody>\n",
       "    <tr>\n",
       "      <th>0</th>\n",
       "      <td>C1C2CCCCC12</td>\n",
       "    </tr>\n",
       "    <tr>\n",
       "      <th>1</th>\n",
       "      <td>C1=CC2=C(C=C1)C=CC=C2</td>\n",
       "    </tr>\n",
       "    <tr>\n",
       "      <th>2</th>\n",
       "      <td>C1CC2(CCCCC2)C=C1</td>\n",
       "    </tr>\n",
       "    <tr>\n",
       "      <th>3</th>\n",
       "      <td>C1=CC2=CC=CC=CC2=C1</td>\n",
       "    </tr>\n",
       "    <tr>\n",
       "      <th>4</th>\n",
       "      <td>C1=CC=CC=C1</td>\n",
       "    </tr>\n",
       "  </tbody>\n",
       "</table>\n",
       "</div>"
      ],
      "text/plain": [
       "                  SMILES\n",
       "0            C1C2CCCCC12\n",
       "1  C1=CC2=C(C=C1)C=CC=C2\n",
       "2      C1CC2(CCCCC2)C=C1\n",
       "3    C1=CC2=CC=CC=CC2=C1\n",
       "4            C1=CC=CC=C1"
      ]
     },
     "execution_count": 6,
     "metadata": {},
     "output_type": "execute_result"
    }
   ],
   "source": [
    "df.head()"
   ]
  },
  {
   "cell_type": "markdown",
   "metadata": {},
   "source": [
    "### Converting SMILES to RDKit objects\n",
    "- A column containing RDKit mol-objects is created using pandasTools.\n",
    "- Descriptors can be easily calculated with rdkit\n",
    "    - Column containing the number of rotatable bonds is added\n",
    "\n"
   ]
  },
  {
   "cell_type": "code",
   "execution_count": 10,
   "metadata": {},
   "outputs": [],
   "source": [
    "PandasTools.AddMoleculeColumnToFrame(df, \"SMILES\")\n",
    "df[\"NRotBonds\"] = df[\"ROMol\"].map(Chem.rdMolDescriptors.CalcNumRotatableBonds)\n"
   ]
  },
  {
   "cell_type": "code",
   "execution_count": 31,
   "metadata": {},
   "outputs": [
    {
     "data": {
      "text/html": [
       "<table border=\"1\" class=\"dataframe\">\n",
       "  <thead>\n",
       "    <tr style=\"text-align: right;\">\n",
       "      <th></th>\n",
       "      <th>SMILES</th>\n",
       "      <th>ROMol</th>\n",
       "      <th>NRotBonds</th>\n",
       "    </tr>\n",
       "  </thead>\n",
       "  <tbody>\n",
       "    <tr>\n",
       "      <th>0</th>\n",
       "      <td>C1C2CCCCC12</td>\n",
       "      <td><img src=\"data:image/png;base64,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\" alt=\"Mol\"/></td>\n",
       "      <td>0</td>\n",
       "    </tr>\n",
       "  </tbody>\n",
       "</table>"
      ],
      "text/plain": [
       "        SMILES                                                                                                                                                                                                                                                                                                                                                                                                                                                                                                                                                                                                                                                                                                                                                                                                                                                                                                                                                                                                                                                                                                                                                                                                                                                                                                                                                                                                                                                                                                                                                                                                                                                                                                                                                                                                                                                                                                                                                                                                                                                                                                                                                                                                                                                                                                                                                                                                                                                                                                                                                                                                                                                                                                                                                                                                                                                                                                                                                                                                                                                                                                                                                                                                                                                                                                                                                                                                                                                                                                                                                                                                                                                                                                                                                                                                                                                                                                                                                                                                                                                                                                                                                                                                                                                                                                                                                                                                                                                                                                                                                                                                                                                                                                                                                                                                                                                                                                                                                                                                                                                                                                                                                                                                                                                                                                                                                                                                                                                                                                                                                                                                                                                                                                                                                                                                                                                                                                                                                                                                                                                                                                                                                                                                                                                                                                                                                                                                  ROMol  NRotBonds\n",
       "0  C1C2CCCCC12  <img src=\"data:image/png;base64,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\" alt=\"Mol\"/>          0"
      ]
     },
     "execution_count": 31,
     "metadata": {},
     "output_type": "execute_result"
    }
   ],
   "source": [
    "df.head(n=1)"
   ]
  },
  {
   "cell_type": "markdown",
   "metadata": {},
   "source": [
    "### How jiggly are our molecules?\n"
   ]
  },
  {
   "cell_type": "code",
   "execution_count": 17,
   "metadata": {},
   "outputs": [
    {
     "data": {
      "text/plain": [
       "Text(0.5, 1.0, 'Distribution of rotatable bonds in the fragrance dataset')"
      ]
     },
     "execution_count": 17,
     "metadata": {},
     "output_type": "execute_result"
    },
    {
     "data": {
      "image/png": "[encoded data removed]",
      "text/plain": [
       "<Figure size 432x288 with 1 Axes>"
      ]
     },
     "metadata": {
      "needs_background": "light"
     },
     "output_type": "display_data"
    }
   ],
   "source": [
    "df[\"NRotBonds\"].hist(bins=20);\n",
    "plt.xlabel(\"Number of rotatable bonds\")\n",
    "plt.ylabel(\"Count\")\n",
    "plt.title(\"Distribution of rotatable bonds in the fragrance dataset\")"
   ]
  },
  {
   "cell_type": "markdown",
   "metadata": {},
   "source": [
    "## Let's choose the rigid molecules!"
   ]
  },
  {
   "cell_type": "code",
   "execution_count": 19,
   "metadata": {},
   "outputs": [
    {
     "name": "stdout",
     "output_type": "stream",
     "text": [
      "Number of molecules: 183\n"
     ]
    }
   ],
   "source": [
    "rigid_molecules = df[df[\"NRotBonds\"] == 0]\n",
    "print(\"Number of molecules: {}\".format(rigid_molecules.shape[0]))"
   ]
  },
  {
   "cell_type": "markdown",
   "metadata": {},
   "source": [
    "## Let's convert these to 3D "
   ]
  },
  {
   "cell_type": "code",
   "execution_count": 20,
   "metadata": {},
   "outputs": [],
   "source": [
    "def molblock2xyzblock(molblock):\n",
    "    \"\"\"\n",
    "    Converts a molblock to a xyzblock\n",
    "    \"\"\"\n",
    "    \n",
    "    mb = molblock.split(\"\\n\")\n",
    "    n_atoms = int(mb[3].split()[0])\n",
    "    coordrows = mb[4:4+n_atoms]\n",
    "    \n",
    "    xyz = []\n",
    "    for r in coordrows:\n",
    "        rs = r.split()\n",
    "        xyz_row = \"{}  {}  {}  {}\".format(rs[3], rs[0], rs[1], rs[2])\n",
    "        xyz.append(xyz_row)\n",
    "    \n",
    "    xyz_block = \"\\n\".join(xyz)\n",
    "    \n",
    "    xyz_formatted = \"{}\\n\\n{}\".format(n_atoms, xyz_block)\n",
    "    \n",
    "    return xyz_formatted"
   ]
  },
  {
   "cell_type": "code",
   "execution_count": 26,
   "metadata": {},
   "outputs": [],
   "source": [
    "def rdmol_to_xyz(mol):\n",
    "    \"\"\"\n",
    "    Embeds a RDMol from 2D to 3D, returns a .xyz block\n",
    "    \"\"\"\n",
    "    mol_with_hydrogens = Chem.AddHs(mol)\n",
    "    AllChem.EmbedMolecule(mol_with_hydrogens)\n",
    "    molblock = Chem.MolToMolBlock(mol_with_hydrogens)\n",
    "    xyzblock = molblock2xyzblock(molblock)\n",
    "    return xyzblock"
   ]
  },
  {
   "cell_type": "code",
   "execution_count": 27,
   "metadata": {},
   "outputs": [
    {
     "name": "stderr",
     "output_type": "stream",
     "text": [
      "/home/markus/anaconda3/envs/my-rdkit-env/lib/python3.6/site-packages/ipykernel_launcher.py:1: SettingWithCopyWarning: \n",
      "A value is trying to be set on a copy of a slice from a DataFrame.\n",
      "Try using .loc[row_indexer,col_indexer] = value instead\n",
      "\n",
      "See the caveats in the documentation: http://pandas.pydata.org/pandas-docs/stable/indexing.html#indexing-view-versus-copy\n",
      "  \"\"\"Entry point for launching an IPython kernel.\n"
     ]
    }
   ],
   "source": [
    "rigid_molecules[\"xyz\"] = rigid_molecules[\"ROMol\"].apply(rdmol_to_xyzol_to_xyz)"
   ]
  },
  {
   "cell_type": "code",
   "execution_count": 30,
   "metadata": {},
   "outputs": [
    {
     "data": {
      "text/html": [
       "<table border=\"1\" class=\"dataframe\">\n",
       "  <thead>\n",
       "    <tr style=\"text-align: right;\">\n",
       "      <th></th>\n",
       "      <th>SMILES</th>\n",
       "      <th>ROMol</th>\n",
       "      <th>NRotBonds</th>\n",
       "      <th>xyz</th>\n",
       "    </tr>\n",
       "  </thead>\n",
       "  <tbody>\n",
       "    <tr>\n",
       "      <th>0</th>\n",
       "      <td>C1C2CCCCC12</td>\n",
       "      <td><img src=\"data:image/png;base64,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\" alt=\"Mol\"/></td>\n",
       "      <td>0</td>\n",
       "      <td>19\\n\\nC  1.8375  -0.2027  -0.3278\\nC  0.8837  -0.6666  0.7409\\nC  -0.3449  -1.3815  0.3071\\nC  -1.1853  -0.6454  -0.6752\\nC  -1.4387  0.7392  -0.0979\\nC  -0.1373  1.4731  -0.1019\\nC  1.0086  0.7409  0.4769\\nH  1.5798  -0.4936  -1.3470\\nH  2.9384  -0.3130  -0.1092\\nH  1.3728  -1.1252  1.6470\\nH  -0.9786  -1.5422  1.2287\\nH  -0.0437  -2.3667  -0.1093\\nH  -0.7584  -0.5728  -1.6822\\nH  -2.1636  -1.1605  -0.7522\\nH  -2.1712  1.3045  -0.6689\\nH  -1.7772  0.6102  0.9625\\nH  0.0825  1.8237  -1.1528\\nH  -0.3351  2.4351  0.4566\\nH  1.6309  1.3437  1.2048</td>\n",
       "    </tr>\n",
       "  </tbody>\n",
       "</table>"
      ],
      "text/plain": [
       "        SMILES                                                                                                                                                                                                                                                                                                                                                                                                                                                                                                                                                                                                                                                                                                                                                                                                                                                                                                                                                                                                                                                                                                                                                                                                                                                                                                                                                                                                                                                                                                                                                                                                                                                                                                                                                                                                                                                                                                                                                                                                                                                                                                                                                                                                                                                                                                                                                                                                                                                                                                                                                                                                                                                                                                                                                                                                                                                                                                                                                                                                                                                                                                                                                                                                                                                                                                                                                                                                                                                                                                                                                                                                                                                                                                                                                                                                                                                                                                                                                                                                                                                                                                                                                                                                                                                                                                                                                                                                                                                                                                                                                                                                                                                                                                                                                                                                                                                                                                                                                                                                                                                                                                                                                                                                                                                                                                                                                                                                                                                                                                                                                                                                                                                                                                                                                                                                                                                                                                                                                                                                                                                                                                                                                                                                                                                                                                                                                                                                  ROMol  NRotBonds                                                                                                                                                                                                                                                                                                                                                                                                                                                                                                                                                                     xyz\n",
       "0  C1C2CCCCC12  <img src=\"data:image/png;base64,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\" alt=\"Mol\"/>          0  19\\n\\nC  1.8375  -0.2027  -0.3278\\nC  0.8837  -0.6666  0.7409\\nC  -0.3449  -1.3815  0.3071\\nC  -1.1853  -0.6454  -0.6752\\nC  -1.4387  0.7392  -0.0979\\nC  -0.1373  1.4731  -0.1019\\nC  1.0086  0.7409  0.4769\\nH  1.5798  -0.4936  -1.3470\\nH  2.9384  -0.3130  -0.1092\\nH  1.3728  -1.1252  1.6470\\nH  -0.9786  -1.5422  1.2287\\nH  -0.0437  -2.3667  -0.1093\\nH  -0.7584  -0.5728  -1.6822\\nH  -2.1636  -1.1605  -0.7522\\nH  -2.1712  1.3045  -0.6689\\nH  -1.7772  0.6102  0.9625\\nH  0.0825  1.8237  -1.1528\\nH  -0.3351  2.4351  0.4566\\nH  1.6309  1.3437  1.2048"
      ]
     },
     "execution_count": 30,
     "metadata": {},
     "output_type": "execute_result"
    }
   ],
   "source": [
    "rigid_molecules.head(n=1)"
   ]
  },
  {
   "cell_type": "markdown",
   "metadata": {},
   "source": [
    "# Time to calculate some properties!\n",
    "\n",
    "- We want to optimize the molecular geometries and obtain HOMO energies\n",
    "- Input files are written in ./orca_calculations/<system_index>/"
   ]
  },
  {
   "cell_type": "code",
   "execution_count": 44,
   "metadata": {},
   "outputs": [],
   "source": [
    "calcbase = os.path.join(os.getcwd(), \"orca_calculations\")\n",
    "\n",
    "for system_index, row in rigid_molecules.iterrows():\n",
    "    #if system_index > 0: break\n",
    "    xyz = row[\"xyz\"]    \n",
    "    xyz_no_header = \"\\n\".join(xyz.split(\"\\n\")[2:])\n",
    "    orca_input = \"! b97-3c opt\\n%maxcore 5000\\n* xyz 0 1\\n{}\\n*\".format(xyz_no_header)\n",
    "    \n",
    "    # Write input files \n",
    "    \n",
    "    calcdir = os.path.join(calcbase, str(system_index))\n",
    "    if not os.path.exists(calcdir):\n",
    "        os.makedirs(calcdir)\n",
    "        \n",
    "    with open(os.path.join(calcdir, \"orca.inp\"), 'w') as f:\n",
    "        f.write(orca_input)\n",
    "        "
   ]
  },
  {
   "cell_type": "markdown",
   "metadata": {},
   "source": [
    "- This is then sent to taito, let's say to $WRKDIR/wflow_example. \n",
    "\n",
    "- In this directory, we get the paths of the input files and save to calcdirs.txt\n",
    "\n",
    "```bash\n",
    "for i in $(find $(pwd) -name \"*inp\"); do echo $(dirname $i); done > calcdirs.txt\n",
    "```\n",
    "- SLURM array job:"
   ]
  },
  {
   "cell_type": "raw",
   "metadata": {},
   "source": [
    "#!/bin/bash -l\n",
    "#SBATCH -p serial\n",
    "#SBATCH -n 1             # total nuber of cores  \n",
    "#SBATCH -t 00:45:00        # time as hh:mm:ss\n",
    "#SBATCH -J array_hc_FNAME\n",
    "#SBATCH -e arrayjob_%A_%a.err\n",
    "#SBATCH -o arrayjob_%A_%a.out\n",
    "#SBATCH --mem-per-cpu=5000  # requested memory per process in MB\n",
    "#SBATCH --array=1-183\n",
    "\n",
    "SDIR=`pwd`\n",
    "module load orca-env/4.0.1.2\n",
    "\n",
    "\n",
    "dir=$(sed -n \"$SLURM_ARRAY_TASK_ID\"p calcdirs.txt)\n",
    "\n",
    "\n",
    "cd $dir\n",
    "\n",
    "start=`date +%s`\n",
    "printf \"Starting $dir ...\"\n",
    "\n",
    "$USERAPPL/orca_4_0_1_2_linux_x86-64_openmpi202/orca  orca.inp > orca.out\n",
    "\n",
    "end=`date +%s`\n",
    "runtime=$( echo \"$end - $start\" | bc -l )\n",
    "printf \"done, time: $runtime s\\n\"\n",
    "\n",
    "\n",
    "echo $dir >> $SDIR/donecalcs.txt\n",
    "cd $SDIR"
   ]
  },
  {
   "cell_type": "markdown",
   "metadata": {},
   "source": [
    "# Parsing the results\n",
    "\n",
    "- The results are parsed using the cclib library with the following script\n",
    "\n",
    "```python\n",
    "import cclib\n",
    "import io\n",
    "import os\n",
    "import deepdish\n",
    "\n",
    "def parse_out(path):\n",
    "    resdir = {}\n",
    "    resdir[\"System\"] = system\n",
    "    try:\n",
    "        with open(os.path.join(path, \"orca.out\")) as f:\n",
    "            inp = f.read()\n",
    "    except:\n",
    "        resdir[\"Error\"] : \"NoOutput\"\n",
    "        return resdir\n",
    "\n",
    "    checkline = inp.split(\"\\n\")[-3]\n",
    "\n",
    "    if \"ORCA TERMINATED NORMALLY\" not in checkline:\n",
    "        resdir[\"Error\"] = \"CalcError\"\n",
    "        return resdir\n",
    "\n",
    "    try:\n",
    "        inp_io = io.StringIO(inp)\n",
    "        parser = cclib.io.ccopen(inp_io)\n",
    "        data = parser.parse()\n",
    "        results = cclib.io.cjsonwriter.CJSON(data).as_dict()\n",
    "        resdir[\"calcres\"] = results\n",
    "        return resdir\n",
    "    except:\n",
    "        resdir[\"Error\"] : \"CantParse\"\n",
    "        return resdir\n",
    "\n",
    "with open(calcpath_file, 'r') as f:\n",
    "    calcpaths = f.readlines()\n",
    "calcpaths = [r.strip() for r in calcpaths]\n",
    "\n",
    "results = {}\n",
    "for path in calcpaths:\n",
    "    system = int(path.split(\"/\")[-2])\n",
    "    result_dict = parse_out(path)\n",
    "    results[system] = result_dict\n",
    "\n",
    "deepdish.io.save(\"cclib_results.h5\", results)\t\n",
    "```"
   ]
  },
  {
   "cell_type": "markdown",
   "metadata": {},
   "source": [
    "## Add HOMO, gap energies to the dataframe\n",
    "\n",
    "- Read the HOMO, gap energies from the cclib result dictionary\n"
   ]
  },
  {
   "cell_type": "code",
   "execution_count": 77,
   "metadata": {},
   "outputs": [],
   "source": [
    "cclib_results = deepdish.io.load(\"cclib_results.h5\")"
   ]
  },
  {
   "cell_type": "markdown",
   "metadata": {},
   "source": [
    "cclib_results is a nested dictionary. Top level key is the system index, and it contains a lot of stuff parsed from the output."
   ]
  },
  {
   "cell_type": "code",
   "execution_count": 96,
   "metadata": {},
   "outputs": [
    {
     "data": {
      "text/plain": [
       "{'partial charges': {'mulliken': array([-0.590046,  0.088444, -0.195531,  0.051192, -0.491772, -0.517366,\n",
       "         -0.333977,  0.157066, -0.3101  , -0.312622,  0.170976,  0.166076,\n",
       "          0.181595,  0.168225,  0.171866,  0.169511,  0.169427,  0.167305,\n",
       "          0.168527,  0.186579,  0.181557,  0.189867,  0.185875,  0.177328]),\n",
       "  'lowdin': array([-0.404552, -0.090616, -0.17395 , -0.155032, -0.404226, -0.395529,\n",
       "         -0.248047,  0.23887 , -0.460838, -0.25201 ,  0.161712,  0.160326,\n",
       "          0.160867,  0.167491,  0.158229,  0.156759,  0.15797 ,  0.158377,\n",
       "          0.158285,  0.164244,  0.180512,  0.183251,  0.188376,  0.189533])},\n",
       " 'charge': 0,\n",
       " 'orbitals': {'homos': array([37], dtype=int32),\n",
       "  'energies': [array([-5.09649378e+02, -2.71399524e+02, -2.69859605e+02, -2.69526429e+02,\n",
       "          -2.69461475e+02, -2.69277336e+02, -2.69182967e+02, -2.69068407e+02,\n",
       "          -2.69017222e+02, -2.68943643e+02, -2.60368056e+01, -2.14257548e+01,\n",
       "          -1.99816466e+01, -1.85536747e+01, -1.73372986e+01, -1.71669553e+01,\n",
       "          -1.70893485e+01, -1.42435546e+01, -1.38086350e+01, -1.25760953e+01,\n",
       "          -1.17776045e+01, -1.16586363e+01, -1.12274991e+01, -1.07624565e+01,\n",
       "          -1.05268059e+01, -1.00242117e+01, -9.99800710e+00, -9.87961036e+00,\n",
       "          -9.64170122e+00, -9.38654006e+00, -9.16163796e+00, -8.83621701e+00,\n",
       "          -8.80086942e+00, -8.27958092e+00, -8.07375400e+00, -7.77859211e+00,\n",
       "          -5.93265338e+00, -5.43531090e+00, -1.46242147e+00, -4.95029517e-01,\n",
       "           4.83029296e-01,  1.07800623e+00,  1.54454543e+00,  1.71926973e+00,\n",
       "           2.05709908e+00,  2.12485542e+00,  2.24213649e+00,  2.46584129e+00,\n",
       "           2.73409112e+00,  2.84111350e+00,  3.11284639e+00,  3.25502588e+00,\n",
       "           3.35676925e+00,  3.51214626e+00,  3.78436895e+00,  3.80162097e+00,\n",
       "           3.96401852e+00,  4.13115084e+00,  4.48835470e+00,  4.63260225e+00,\n",
       "           4.86604872e+00,  5.03299057e+00,  5.31854684e+00,  5.80051489e+00,\n",
       "           6.13186793e+00,  6.43089384e+00,  6.61301964e+00,  6.82875150e+00,\n",
       "           7.00342138e+00,  7.47880428e+00,  7.75048275e+00,  7.96937113e+00,\n",
       "           8.23098138e+00,  8.61991371e+00,  8.79455638e+00,  8.84310149e+00,\n",
       "           9.50221566e+00,  9.75745845e+00,  9.85623578e+00,  1.00568925e+01,\n",
       "           1.02982303e+01,  1.04506141e+01,  1.04868052e+01,  1.07502114e+01,\n",
       "           1.10288288e+01,  1.10909524e+01,  1.11338919e+01,  1.12285876e+01,\n",
       "           1.13067114e+01,  1.14749050e+01,  1.17086236e+01,  1.17655498e+01,\n",
       "           1.18742865e+01,  1.19671862e+01,  1.20973927e+01,  1.23091517e+01,\n",
       "           1.23466217e+01,  1.25117404e+01,  1.28010247e+01,  1.29562384e+01,\n",
       "           1.31761880e+01,  1.35924678e+01,  1.38012880e+01,  1.44210000e+01,\n",
       "           1.45466350e+01,  1.47556457e+01,  1.49364109e+01,  1.56277705e+01,\n",
       "           1.56809688e+01,  1.61678893e+01,  1.67478728e+01,  1.69736729e+01,\n",
       "           1.77125708e+01,  1.78851454e+01,  1.82738056e+01,  1.90184724e+01,\n",
       "           2.00236610e+01,  2.02389302e+01,  2.06564617e+01,  2.11215587e+01,\n",
       "           2.25767147e+01,  2.39642777e+01,  2.60391458e+01,  3.18968590e+01,\n",
       "           3.27784535e+01,  3.43023999e+01,  3.51322927e+01,  3.53945832e+01,\n",
       "           3.62880691e+01,  3.66598310e+01,  3.71296900e+01,  3.74308384e+01,\n",
       "           3.75016696e+01,  3.77777563e+01,  3.80118287e+01,  3.84968716e+01,\n",
       "           3.88826746e+01,  3.90756306e+01,  3.94131878e+01,  3.96084567e+01,\n",
       "           3.99019315e+01,  4.03088505e+01,  4.03904303e+01,  4.06817826e+01,\n",
       "           4.08135945e+01,  4.13690877e+01,  4.15745337e+01,  4.15887108e+01,\n",
       "           4.20331816e+01,  4.23738681e+01,  4.26274782e+01,  4.28573328e+01,\n",
       "           4.32494217e+01,  4.39182775e+01,  4.40164562e+01,  4.42591817e+01,\n",
       "           4.44616616e+01,  4.47609052e+01,  4.48692882e+01,  4.50988434e+01,\n",
       "           4.53381404e+01,  4.56555884e+01,  4.70713423e+01,  4.74897718e+01,\n",
       "           4.76072978e+01,  4.79734542e+01,  4.80065432e+01,  4.83596653e+01,\n",
       "           4.84999672e+01,  4.87636728e+01,  4.88691985e+01,  4.92429469e+01,\n",
       "           5.00580911e+01,  5.05517329e+01,  5.20162224e+01,  5.26108456e+01,\n",
       "           5.34192686e+01,  5.38679844e+01,  5.42895159e+01,  5.46793190e+01,\n",
       "           5.49477866e+01,  5.52095057e+01,  5.59794518e+01,  5.78042473e+01,\n",
       "           5.82159011e+01,  5.89541460e+01,  5.92920842e+01,  6.06441091e+01,\n",
       "           6.11322541e+01,  6.20656862e+01,  6.25165517e+01,  6.30517724e+01,\n",
       "           6.37790239e+01,  6.49586102e+01,  6.60391743e+01,  6.60689436e+01,\n",
       "           6.64662842e+01,  6.66980708e+01,  6.73052656e+01,  6.88189534e+01,\n",
       "           6.91144690e+01,  7.01335354e+01,  7.07530842e+01,  7.13207137e+01,\n",
       "           7.33705745e+01,  7.34615966e+01,  7.36395319e+01,  7.41209013e+01,\n",
       "           7.47451304e+01,  7.51345526e+01,  7.57406045e+01,  7.60380794e+01,\n",
       "           7.61233599e+01,  7.74481462e+01,  7.76956337e+01,  7.97659031e+01,\n",
       "           8.20040667e+01,  8.26978754e+01,  8.39055711e+01,  8.52003704e+01,\n",
       "           8.58623962e+01,  8.70816295e+01,  8.81261930e+01,  8.90994898e+01,\n",
       "           8.97379777e+01,  9.20886877e+01,  1.07953714e+02,  5.80577105e+02,\n",
       "           5.87593560e+02,  5.91540381e+02,  5.91880088e+02,  5.93076382e+02,\n",
       "           5.95270518e+02,  5.98691560e+02,  6.00838266e+02,  6.01216722e+02,\n",
       "           1.18062703e+03])],\n",
       "  'basis number': 237,\n",
       "  'MO number': 237},\n",
       " 'total dipole moment': 3.0511911144467456,\n",
       " 'multiplicity': 1,\n",
       " 'number of atoms': 24,\n",
       " 'energy': {'alpha': {'homo': -5.4353108954272, 'gap': 3.9728894286850505},\n",
       "  'beta': {'homo': -5.4353108954272, 'gap': 3.9728894286850505},\n",
       "  'total': -11599.894350603414}}"
      ]
     },
     "execution_count": 96,
     "metadata": {},
     "output_type": "execute_result"
    }
   ],
   "source": [
    "cclib_results[0][\"calcres\"][\"properties\"]"
   ]
  },
  {
   "cell_type": "markdown",
   "metadata": {},
   "source": [
    "We add HOMO, gap to the dataframe"
   ]
  },
  {
   "cell_type": "code",
   "execution_count": 91,
   "metadata": {},
   "outputs": [
    {
     "name": "stderr",
     "output_type": "stream",
     "text": [
      "/home/markus/anaconda3/envs/my-rdkit-env/lib/python3.6/site-packages/ipykernel_launcher.py:1: SettingWithCopyWarning: \n",
      "A value is trying to be set on a copy of a slice from a DataFrame.\n",
      "Try using .loc[row_indexer,col_indexer] = value instead\n",
      "\n",
      "See the caveats in the documentation: http://pandas.pydata.org/pandas-docs/stable/indexing.html#indexing-view-versus-copy\n",
      "  \"\"\"Entry point for launching an IPython kernel.\n",
      "/home/markus/anaconda3/envs/my-rdkit-env/lib/python3.6/site-packages/ipykernel_launcher.py:2: SettingWithCopyWarning: \n",
      "A value is trying to be set on a copy of a slice from a DataFrame.\n",
      "Try using .loc[row_indexer,col_indexer] = value instead\n",
      "\n",
      "See the caveats in the documentation: http://pandas.pydata.org/pandas-docs/stable/indexing.html#indexing-view-versus-copy\n",
      "  \n",
      "/home/markus/anaconda3/envs/my-rdkit-env/lib/python3.6/site-packages/ipykernel_launcher.py:8: FutureWarning: set_value is deprecated and will be removed in a future release. Please use .at[] or .iat[] accessors instead\n",
      "  \n",
      "/home/markus/anaconda3/envs/my-rdkit-env/lib/python3.6/site-packages/ipykernel_launcher.py:9: FutureWarning: set_value is deprecated and will be removed in a future release. Please use .at[] or .iat[] accessors instead\n",
      "  if __name__ == '__main__':\n"
     ]
    }
   ],
   "source": [
    "rigid_molecules[\"homo\"] = np.nan\n",
    "rigid_molecules[\"gap\"] = np.nan\n",
    "\n",
    "for system_index in cclib_results:\n",
    "    try:\n",
    "        homo = cclib_results[system_index][\"calcres\"][\"properties\"][\"energy\"][\"alpha\"][\"homo\"]\n",
    "        gap = cclib_results[system_index][\"calcres\"][\"properties\"][\"energy\"][\"alpha\"][\"gap\"]\n",
    "        rigid_molecules.set_value(system_index, \"homo\" , homo)\n",
    "        rigid_molecules.set_value(system_index, \"gap\" , gap)\n",
    "    except:\n",
    "        pass\n"
   ]
  },
  {
   "cell_type": "code",
   "execution_count": 92,
   "metadata": {},
   "outputs": [
    {
     "data": {
      "text/html": [
       "<table border=\"1\" class=\"dataframe\">\n",
       "  <thead>\n",
       "    <tr style=\"text-align: right;\">\n",
       "      <th></th>\n",
       "      <th>SMILES</th>\n",
       "      <th>ROMol</th>\n",
       "      <th>NRotBonds</th>\n",
       "      <th>xyz</th>\n",
       "      <th>homo</th>\n",
       "      <th>gap</th>\n",
       "    </tr>\n",
       "  </thead>\n",
       "  <tbody>\n",
       "    <tr>\n",
       "      <th>0</th>\n",
       "      <td>C1C2CCCCC12</td>\n",
       "      <td><img src=\"data:image/png;base64,iVBORw0KGgoAAAANSUhEUgAAAMgAAADICAIAAAAiOjnJAAAABmJLR0QA/wD/AP+gvaeTAAARl0lEQVR4nO3dW1AT1x8H8AOSKOAFFUXxjhdQgZaLilZFBEet4PQF34J9gs50DJmpNnScaeK0zoD6sPDQFh86DfqEfegELXYAqXJRxCh3IgjIRZSLiNzDJfk//PrfwVYUwp49u+H3eXSS3Z/hm83u2d8562Sz2QhCQnNmXQByTBgsRAUGC1GBwUJUYLAQFRgsRAUGC1GBwUJUYLAQFRgsRAUGC1GBwUJUYLAQFRgsRAUGC1GBwUJUYLAQFRgsRAUGC1GBwUJUYLAQFRgsRAUGC1GBwUJUYLAQFRgsRAUGC1GBwUJUuLAuYK57/vy5Xq8PCwsbGho6c+aMQqFgXZFAbIiRgYGB8+fPL1iwgBDi6upKCPH19b116xbruoSBwWLAarVmZmZu2LCBEOLk5BQbG3v9+nV/f3/4qkdFRVVWVrKucbYwWGJ79OjRZ599BhkKCQkpLCyEfx8dHU1PT/f09CSEuLi4xMfHd3V1sS11NjBY4mlvb4+Pj3d2diaErF69Oj09fWJi4l+vef36tVqtnjdvHiFk2bJlHMeNj48zqXaWMFhisFgsHMctXryYEKJUKtVq9du3bz/w+pqamqNHj8JRbfv27bdv3xatVKFgsKgzGo0+Pj6Qkujo6IaGBtpvlAIMFkW1tbXHjh2DZPj5+WVnZ890C3CoW7Ro0TQPddKBwaICTpVcXFz4U6WxsTG7t/bixQv+5Mzb2/u9J2dSg8ES2NjYGKWLu9LS0n379sHxLzQ0lL+clCYMlpByc3P54ajIyEjBh6NgAGz9+vX8AFhzc7OwuxAKBksYdXV1sbGxEKmtW7dmZmbS29fg4KBOp4Mhezc3N51ONzw8TG939sFgzVZ/f79Op5s/fz4hxN3dXafTjYyMiLDflpYWlUoFUV63bp3BYBBhp9OHwbLfxMSEwWDw8vIihDg7O6tUqlevXolcQ35+/ieffALxOnToUFlZmcgFTAWDZacHDx7s2bMH/qK7d+++f/8+q0og3ytXruTz3dHRwaoYHgZrxlpbW1UqlZOTEyFk7dq1BoPBarWyLsr25s0brVarVCoJIR4eHsnJyRaLhWE9GKwZGBwcTE5OXrhwIZw1a7Xa/v5+1kW94+nTpydOnIDj6LZt27KyslhVgsGaLqPRCI0ucIOlqamJdUVTysnJ2blzJ9+EU1VVJX4NGKyPM5lM+/fvh79TcHBwQUEB64o+bnR0lOO4JUuWEEIUCoVare7t7RWzAAzWh0CjCzSxeHp6yq6Jpbu7m2/CWb58uZj1Y7DeD77x0OgC33i53P39r8ePHx88eBCOuEFBQXfv3hVhpxis9zAajZs3b+bPUWpqalhXJACj0bhp0yb+HLGxsZHq7jBY76itrT1+/Dh8+o40tQEMDQ0lJydDE46rq6tWq+3r66O0LwzWP3p6evhGl6VLl86y0UXK2tra+HE4b29vSuNwGKx/Gl1WrFjBN7p0dnayLoq6hw8f7t27F47Nu3btKi4uFnb7cz1YeXl5AQEB8PkePny4oqKCdUXisVqtBoNh1apVfBNOS0uLUBufu8Gqr6/nG122bNlCtdFFygYGBvgmHOjOEKQJZy4GCz7KyY0uEuxnEtmzZ8/4r5kgTThzK1j/OvirVKqXL1+yLkpC7ty5ExgYCPGKiIgoLy+3e1NzKFglJSVhYWH0TlcdAzThwKUMNOHYdykzJ4I1+QJ7zZo1Eml0kbKenh6+CWfp0qV2NOE4eLBgSBAaXWBIUGqNLlJmNps///xz+4aLHTlYRqNx48aNsmh0kbKcnJwdO3bwN7iqq6un8y7HDJbJZDpw4AB/2/XevXusK5I3O5pwHC1YDBtFHN6MPlvHCZbFYrl06dKRI0dgmYOzZ8/Kt9FFykpLS2F9L2dn5w9MCnKQYBmNxq1bt8Jvn7e3d11dHeuKHJnVav3ll18IIatWrZrqNbJfNRmmD5w8ebK+vn7NmjWEkJCQED5kiAYnJ6cvvviCEGK1Wqd6jYyD9ebNm6SkpMDAwD///BPGWtLS0lgXhf4hy2BZrdaMjAw/P7+UlJTx8XGVSmU2m7VaLXRTISmQ318iPz9fo9FUVFQQQiIiIjiO429vIemQ0xGrtbU1Li4OuqbgDvzkm6ZIUuRxxBocHLx8+XJKSsrIyIi7u/vZs2eTkpKghQhJk9SDZbPZfv/992+++aa1tRW6HK9cuQIrjyEpk3SwSktLNRpNcXExIWTXrl0cx/FrJSKJk+g5Vnt7e0JCQlhYWHFxMSzn+uDBA0yVjEjuiDU8PJyWlnbx4sX+/n6lUvnVV1/9+OOPMBUOyYi0gpWVlZWYmNjU1EQIiY6OTktL4yfvInmRyk9hWVlZeHj4yZMnm5qa4CEfWVlZmCr5Yh+snp6exMTE0NDQe/fuwVr7lZWV/JNkkEyx/CkcGxv76aef9Hp9b2+vQqH4+uuvL1y44OHhwbAkJBRmwcrNzdVoNNXV1YSQqKgojuP4ReiQA2DwU1hXVxcTE3PkyJHq6mpYJ3Py0obIMYh6xOrt7U1OTuY4zmKxeHh4JCUlaTQamJGMHIxIwbJardevXz937lxnZydMg7x8+TIsvY8ckhjB+vvvvzUaTXl5OSEkPDyc47hPP/1UhP0ihuieY7W1tUGjS3l5Oay1n5+fj6maC2gdsYaGhi5dugSNLm5ubufOndNqta6urpR2h6RG+GBBo8u5c+eam5uh0eXy5cv80vtojhA4WCaTKTExsaioiBASEhKSmpoKc9DQXCPYOdbLly8TEhJ2795dVFS0evXq9PT0hw8fYqrmLAGOWKOjoz///PP333/f19cHjS4//PADLL2P5qzZBisrK0uj0TQ2NhJCoqOjU1NTfXx8hCgMyZv9P4Vms/n48eMnT55sbGz08/PLzs7OysrCVCFgT7Cg0SUgIOD27dt8o8uxY8cELw7J18x+CsfHx3/99dfz5893d3fDWvsXL1709PSkVBySrxkEKy8vT6PRVFVVEUIiIyM5jvP396dWGJK3af0U1tfXnzp1Cp7VCWvt5+bmYqrQB3zkiDUwMHDlyhVYNBemIH/33XfY6II+aspgQaPLt99+29HRgY0uaKamDFZlZeWXX35ps9kOHDjAcVxwcLCYZSG5Yz9LBzmkKYMVEBDw22+/eXl5FRQUhIaGxsXFvXr1SszKkKxNGSxnZ+e4uLiGhgadTqdUKq9du7Zlyxa9Xm+xWMSsD8nUR34K3d3d9Xp9VVVVbGzs4ODghQsX/P39b9y4IU5xSL6mdY41eezq2bNnMKZVWVlJuzgkXzM4eY+MjHzy5El6erqnp2deXl5wcHBCQkJXVxe94pB8zeyqEO4PPn36VK1WE0KuXr3q5+eXmpo6Pj5OpzwkV/YMNyxbtiw1NRU6Gnp6ejQaTUBAQHZ2tuDFIfmyfxwLerCMRqOPjw882C4mJqahoUHA4pB8zXaANCYmpra2luO4xYsX37x5c/v27YmJiX19fYIUh+RLgJF3pVKZmJhoNpvj4+MnJibS0tL8/PyuXr36gQetIIcn2C2dyTNz+Bk7hYWFQm0fyYvA9wpDQkIKCgoyMzM3bNhgMpkOHjx46tSp5uZmYfeCpE/4m9Aw+7mmpkan0y1YsODGjRs7duzQ6/XDw8OC7wtJFq3uBjc3N71eX1dXp1KphoeHL1y4sG3btoyMDJvNRmmPSFLots2sXbs2IyMDVphpa2s7ffp0REREWVkZ1Z0iKRCjHys8PNxkMhkMBi8vr7t374aEhMTFxXV0dIiwa8SKSI1+0IQDj6tUKBTXrl2Dx1hiE46jErWD1MPDIzk5uaKiIjo6ure3NykpKSAgAJtwHBKD1uTJKyXDxDJYQVn8ShA9zHreo6Kinjx5wnGch4dHbm5uUFBQQkJCd3c3q3qQsFhOplAoFImJiQ0NDWq12mq1Xr161dfXNzU1dWJigmFVSBDsZ+nwTThHjx7lm3D++usv1nWhWWEfLABP/DIajZs2baqtrT127FhMTAwsu4XkSCrBAjExMWazmeO4RYsW8U04/f39rOtCMyatYJF3m3DGx8exCUemJBcsAM+BLikp2bdvHzwfes+ePfDUcSQLEg0WCA0NLSwszMzMXL9+/aNHj/bv33/q1KmWlhbWdaGPk3SwyLtNOPPnz+ebcEZGRliXhj5E6sECMCEbmnBgQjY04bCuC01JHsEC69aty8jIuHPnTmBgYGtr6+nTpw8fPlxRUcG6LvQecgoWiIiIePLkicFgWLlyZX5+flBQUFxcXGdnJ+u60DvkFyzybhOOi4vLtWvXfH19U1JScEK2hNhkzmw2nzhxAv4v3t7ehJCYmBjWRTk+WCxt5cqVU71AlkesyXx9fW/evGk0Grdu3dre3k4IMZlM9fX1rOtyZDab7Y8//iCEODtPnR8RU06XxWK5dOnSkSNHCCFKpfLs2bNv375lXZQDKi0thYe6OTs7l5WVTfUyxwkW6O7uVqvV8+bNI4QsX76c47jx8XHWRTmIrq6u6X+2jhYs8Pjx4wMHDsAhOSgo6O7du6wrkrfR0VFYnoMQolAo1Gp1b2/vh9/imMECRqNx48aNEK/o6OjGxkbWFclSTk7O9u3b4WOMioqqrq6ezrscOVg2m21oaCg5OXnhwoWEEFdXV61W29fXx7oo2YDVqSBSvr6+t27dmv57HTxYoK2tTaVSOTk5EULWrFljMBisVivroiStp6dHq9UqlUpCyNKlS+GZNzPawpwIFnj48OHevXvh+7dr167i4mLWFUnR2NhYenr6ihUr4LpPpVJ1dnbasZ05FCybzWa1Wg0Gw6pVqwghTk5OKpXq5cuXrIuSkLy8vMDAQPjuRURElJeX272puRUsMDAwACvhEELc3d11Ot3w8DDrohirr6+PjY2FSK1fv95gMMxyg3MxWGDyRwkL2bOuiA1KX7O5GyyQl5cXEBAA8Tp8+PBsDv6yQ/XEYK4Hy/bu6SosZG/f6aq80L6UwWD9o6enR61Wu7i42H2BLRfiDL5gsN5hNpuPHz9u35Cg9MFw8aJFi0QYLsZgvYfRaNy8eTN/E6OmpoZ1RQKAWeai3eDCYL3ff2+7yrcJ5/HjxwcPHhT5ljwG60MmN4p4enrKrgmHYRMRBuvjTCbT/v374RsfHBx879491hV9HBxxlyxZMv1GF2FhsKbrX004TU1NrCuaUk5Ozo4dO/hzxKqqKvFrwGDNwODgIN+E4+bmptVq+/v7WRf1jqdPn/JTS7Zt23bz5k1WlWCwZqy1tVWCTThv3rzhG11gEWG243AYLDuVlJSEhYXBsWH37t33799nVcnExARM3+UbXTo6OlgVw8Ng2Q/+ol5eXvxfVPwmHFhwAPJ96NChD0ybERkGa7agO2D+/Pl8d8DIyIgI+21paVGpVBCpdevWzb7RRVgYLGHU1dWJ1oQzudHFzc1Nmv1kGCwh5ebm+vv7Q7wiIyMrKiqE3b7VaoVl6Mj/Vw5rbm4WdhdCwWAJDJpwPD09BW/CKS0t3bdvH6Q2NDS0qKhIkM1SgsGi4vXr13wTzrJlyziOGxsbs3trL168iI+Ph4USYHXWiYkJAaulAYNFESxYD8cYPz+/7OzsmW7BYrHA4uSEEKVSqVar5TIvEoNFndFo9PHx4e8FPXv2bPpvnNzo0tDQQLVOYWGwxAAHnuk34dTU1Bw9ehQiBc/sEK1UoWCwxNPe3s6fKq1evfq9p0pwcgaNLnByJq9GHR4GS2yPHj2C9aUIISEhIQUFBfDvo6Oj/OWkQqGIj4/v6upiW+psYLAYgOGoDRs28MNR169f37lzJ9/oUllZybrG2cJgMTMwMHD+/HkYQHd1dXWw6RtONpuNIHaeP3+u1+vDwsKGhobOnDmjUChYVyQMDBaiQvarJiNpwmAhKjBYiAoMFqICg4WowGAhKjBYiAoMFqICg4WowGAhKjBYiAoMFqICg4WowGAhKjBYiAoMFqICg4WowGAhKjBYiAoMFqICg4WowGAhKjBYiAoMFqICg4WowGAhKjBYiAoMFqLif3BItpMn2ayaAAAAAElFTkSuQmCC\" alt=\"Mol\"/></td>\n",
       "      <td>0</td>\n",
       "      <td>19\\n\\nC  1.8375  -0.2027  -0.3278\\nC  0.8837  -0.6666  0.7409\\nC  -0.3449  -1.3815  0.3071\\nC  -1.1853  -0.6454  -0.6752\\nC  -1.4387  0.7392  -0.0979\\nC  -0.1373  1.4731  -0.1019\\nC  1.0086  0.7409  0.4769\\nH  1.5798  -0.4936  -1.3470\\nH  2.9384  -0.3130  -0.1092\\nH  1.3728  -1.1252  1.6470\\nH  -0.9786  -1.5422  1.2287\\nH  -0.0437  -2.3667  -0.1093\\nH  -0.7584  -0.5728  -1.6822\\nH  -2.1636  -1.1605  -0.7522\\nH  -2.1712  1.3045  -0.6689\\nH  -1.7772  0.6102  0.9625\\nH  0.0825  1.8237  -1.1528\\nH  -0.3351  2.4351  0.4566\\nH  1.6309  1.3437  1.2048</td>\n",
       "      <td>-6.184957</td>\n",
       "      <td>6.889542</td>\n",
       "    </tr>\n",
       "  </tbody>\n",
       "</table>"
      ],
      "text/plain": [
       "        SMILES                                                                                                                                                                                                                                                                                                                                                                                                                                                                                                                                                                                                                                                                                                                                                                                                                                                                                                                                                                                                                                                                                                                                                                                                                                                                                                                                                                                                                                                                                                                                                                                                                                                                                                                                                                                                                                                                                                                                                                                                                                                                                                                                                                                                                                                                                                                                                                                                                                                                                                                                                                                                                                                                                                                                                                                                                                                                                                                                                                                                                                                                                                                                                                                                                                                                                                                                                                                                                                                                                                                                                                                                                                                                                                                                                                                                                                                                                                                                                                                                                                                                                                                                                                                                                                                                                                                                                                                                                                                                                                                                                                                                                                                                                                                                                                                                                                                                                                                                                                                                                                                                                                                                                                                                                                                                                                                                                                                                                                                                                                                                                                                                                                                                                                                                                                                                                                                                                                                                                                                                                                                                                                                                                                                                                                                                                                                                                                                                  ROMol  NRotBonds                                                                                                                                                                                                                                                                                                                                                                                                                                                                                                                                                                     xyz      homo       gap\n",
       "0  C1C2CCCCC12  <img src=\"data:image/png;base64,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\" alt=\"Mol\"/>          0  19\\n\\nC  1.8375  -0.2027  -0.3278\\nC  0.8837  -0.6666  0.7409\\nC  -0.3449  -1.3815  0.3071\\nC  -1.1853  -0.6454  -0.6752\\nC  -1.4387  0.7392  -0.0979\\nC  -0.1373  1.4731  -0.1019\\nC  1.0086  0.7409  0.4769\\nH  1.5798  -0.4936  -1.3470\\nH  2.9384  -0.3130  -0.1092\\nH  1.3728  -1.1252  1.6470\\nH  -0.9786  -1.5422  1.2287\\nH  -0.0437  -2.3667  -0.1093\\nH  -0.7584  -0.5728  -1.6822\\nH  -2.1636  -1.1605  -0.7522\\nH  -2.1712  1.3045  -0.6689\\nH  -1.7772  0.6102  0.9625\\nH  0.0825  1.8237  -1.1528\\nH  -0.3351  2.4351  0.4566\\nH  1.6309  1.3437  1.2048 -6.184957  6.889542"
      ]
     },
     "execution_count": 92,
     "metadata": {},
     "output_type": "execute_result"
    }
   ],
   "source": [
    "rigid_molecules.head(n=1)"
   ]
  },
  {
   "cell_type": "markdown",
   "metadata": {},
   "source": [
    "# See how properties are distributed"
   ]
  },
  {
   "cell_type": "code",
   "execution_count": 94,
   "metadata": {},
   "outputs": [
    {
     "data": {
      "text/plain": [
       "Text(0, 0.5, 'Count')"
      ]
     },
     "execution_count": 94,
     "metadata": {},
     "output_type": "execute_result"
    },
    {
     "data": {
      "image/png": "[encoded data removed]",
      "text/plain": [
       "<Figure size 432x288 with 1 Axes>"
      ]
     },
     "metadata": {
      "needs_background": "light"
     },
     "output_type": "display_data"
    }
   ],
   "source": [
    "rigid_molecules[\"homo\"].hist(bins=20)\n",
    "plt.xlabel(\"E(HOMO) (eV)\")\n",
    "plt.ylabel(\"Count\")"
   ]
  },
  {
   "cell_type": "code",
   "execution_count": 95,
   "metadata": {},
   "outputs": [
    {
     "data": {
      "text/plain": [
       "Text(0, 0.5, 'Count')"
      ]
     },
     "execution_count": 95,
     "metadata": {},
     "output_type": "execute_result"
    },
    {
     "data": {
      "image/png": "[encoded data removed]",
      "text/plain": [
       "<Figure size 432x288 with 1 Axes>"
      ]
     },
     "metadata": {
      "needs_background": "light"
     },
     "output_type": "display_data"
    }
   ],
   "source": [
    "rigid_molecules[\"gap\"].hist(bins=20)\n",
    "plt.xlabel(\"HOMO-LUMO gap (eV)\")\n",
    "plt.ylabel(\"Count\")"
   ]
  },
  {
   "cell_type": "code",
   "execution_count": null,
   "metadata": {},
   "outputs": [],
   "source": []
  }
 ],
 "metadata": {
  "kernelspec": {
   "display_name": "Python (my-rdkit-env)",
   "language": "python",
   "name": "my-rdkit-env"
  },
  "language_info": {
   "codemirror_mode": {
    "name": "ipython",
    "version": 3
   },
   "file_extension": ".py",
   "mimetype": "text/x-python",
   "name": "python",
   "nbconvert_exporter": "python",
   "pygments_lexer": "ipython3",
   "version": "3.6.8"
  }
 },
 "nbformat": 4,
 "nbformat_minor": 2
}
