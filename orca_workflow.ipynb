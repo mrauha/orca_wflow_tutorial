{
 "cells": [
  {
   "cell_type": "markdown",
   "metadata": {},
   "source": [
    "# Computational chemistry workflow with Jupyter notebook\n",
    "\n",
    "- Exercise for SSCC-19\n",
    "- Markus Rauhalahti, markus.rauhalahti@helsinki.fi, mrauha.github.io\n",
    "\n",
    "- For setting up, see README.md"
   ]
  },
  {
   "cell_type": "markdown",
   "metadata": {},
   "source": [
    "## Used libraries"
   ]
  },
  {
   "cell_type": "code",
   "execution_count": 1,
   "metadata": {},
   "outputs": [],
   "source": [
    "# General\n",
    "import os\n",
    "\n",
    "# Data wrangling\n",
    "import pandas as pd\n",
    "import numpy as np\n",
    "import deepdish\n",
    "\n",
    "\n",
    "# Visualization\n",
    "import matplotlib.pyplot as plt\n",
    "%matplotlib inline"
   ]
  },
  {
   "cell_type": "markdown",
   "metadata": {},
   "source": [
    "## Reading in the molecules\n",
    "\n",
    "- Fragrance dataset from [GDB](http://gdb.unibe.ch/)\n",
    "    - [Ruddigkeit, Lars, Mahendra Awale, and Jean-Louis Reymond. \"Expanding the fragrance chemical space for virtual screening.\" Journal of cheminformatics 6.1 (2014): 27](https://jcheminf.biomedcentral.com/articles/10.1186/1758-2946-6-27)\n",
    "- In Simplified molecular-input line-entry system (SMILES) format, see [wiki](https://en.wikipedia.org/wiki/Simplified_molecular-input_line-entry_system)\n",
    "    - String representation of molecular graph. Only connectivity, elements, valence, charge information - no 3D structures.\n",
    "   \n",
    "- From these, the molecules with no rotatable bonds were chosen and converted to a .xyz format (2D $\\to$ 3D). \n",
    "    - This was done using rdkit. \n",
    "- The input data is given as a pandas dataframe. "
   ]
  },
  {
   "cell_type": "code",
   "execution_count": 52,
   "metadata": {},
   "outputs": [
    {
     "name": "stdout",
     "output_type": "stream",
     "text": [
      "Number of molecules: 183\n"
     ]
    },
    {
     "data": {
      "text/html": [
       "<div>\n",
       "<style scoped>\n",
       "    .dataframe tbody tr th:only-of-type {\n",
       "        vertical-align: middle;\n",
       "    }\n",
       "\n",
       "    .dataframe tbody tr th {\n",
       "        vertical-align: top;\n",
       "    }\n",
       "\n",
       "    .dataframe thead th {\n",
       "        text-align: right;\n",
       "    }\n",
       "</style>\n",
       "<table border=\"1\" class=\"dataframe\">\n",
       "  <thead>\n",
       "    <tr style=\"text-align: right;\">\n",
       "      <th></th>\n",
       "      <th>SMILES</th>\n",
       "      <th>NRotBonds</th>\n",
       "      <th>xyz</th>\n",
       "    </tr>\n",
       "  </thead>\n",
       "  <tbody>\n",
       "    <tr>\n",
       "      <th>0</th>\n",
       "      <td>C1C2CCCCC12</td>\n",
       "      <td>0</td>\n",
       "      <td>19\\n\\nC  2.0889  -0.2624  -0.2700\\nC  0.9608  ...</td>\n",
       "    </tr>\n",
       "    <tr>\n",
       "      <th>1</th>\n",
       "      <td>C1=CC2=C(C=C1)C=CC=C2</td>\n",
       "      <td>0</td>\n",
       "      <td>18\\n\\nC  2.3965  -0.1280  -0.7519\\nC  1.2891  ...</td>\n",
       "    </tr>\n",
       "  </tbody>\n",
       "</table>\n",
       "</div>"
      ],
      "text/plain": [
       "                  SMILES  NRotBonds  \\\n",
       "0            C1C2CCCCC12          0   \n",
       "1  C1=CC2=C(C=C1)C=CC=C2          0   \n",
       "\n",
       "                                                 xyz  \n",
       "0  19\\n\\nC  2.0889  -0.2624  -0.2700\\nC  0.9608  ...  \n",
       "1  18\\n\\nC  2.3965  -0.1280  -0.7519\\nC  1.2891  ...  "
      ]
     },
     "execution_count": 52,
     "metadata": {},
     "output_type": "execute_result"
    }
   ],
   "source": [
    "rigid_molecules = pd.read_pickle(\"rigid_molecules.pkl\")\n",
    "print(\"Number of molecules: {}\".format(rigid_molecules.shape[0]))\n",
    "rigid_molecules.head(n=2)"
   ]
  },
  {
   "cell_type": "markdown",
   "metadata": {},
   "source": [
    "# Time to calculate some properties!\n",
    "\n",
    "- We want to optimize the molecular geometries and obtain some molecular properties\n",
    "- Input files are written in ./orca_calculations/{system_index}"
   ]
  },
  {
   "cell_type": "code",
   "execution_count": 3,
   "metadata": {},
   "outputs": [],
   "source": [
    "calcbase = os.path.join(os.getcwd(), \"orca_calculations\")\n",
    "\n",
    "for system_index, row in rigid_molecules.iterrows():\n",
    "    #if system_index > 0: break\n",
    "    xyz = row[\"xyz\"]    \n",
    "    xyz_no_header = \"\\n\".join(xyz.split(\"\\n\")[2:])\n",
    "    orca_input = \"! b97-3c opt\\n%maxcore 5000\\n* xyz 0 1\\n{}\\n*\".format(xyz_no_header)\n",
    "    \n",
    "    # Write input files \n",
    "    \n",
    "    calcdir = os.path.join(calcbase, str(system_index))\n",
    "    if not os.path.exists(calcdir):\n",
    "        os.makedirs(calcdir)\n",
    "        \n",
    "    with open(os.path.join(calcdir, \"orca.inp\"), 'w') as f:\n",
    "        f.write(orca_input)\n",
    "        "
   ]
  },
  {
   "cell_type": "markdown",
   "metadata": {},
   "source": [
    "The inputs look like this:\n",
    "\n",
    "```\n",
    "! b97-3c opt                 <- geometry optimization using the b97-3c method\n",
    "%maxcore 5000                <- memory per core\n",
    "* xyz 0 1                    <- charge, multiplicity\n",
    "C  1.8375  -0.2027  -0.3278  <- xyz coordinates\n",
    "...\n",
    "*\n",
    "```"
   ]
  },
  {
   "cell_type": "markdown",
   "metadata": {},
   "source": [
    "- This is then sent to taito, let's say to $WRKDIR/wflow_example. \n",
    "\n",
    "- In this directory, we get the paths of the input files and save to calcdirs.txt\n",
    "\n",
    "```bash\n",
    "for i in $(find $(pwd) -name \"*inp\"); do echo $(dirname $i); done > calcdirs.txt\n",
    "```\n",
    "- SLURM array job:\n",
    "\n",
    "```\n",
    "#!/bin/bash -l\n",
    "#SBATCH -p serial\n",
    "#SBATCH -n 1             # total nuber of cores  \n",
    "#SBATCH -t 01:00:00        # time as hh:mm:ss\n",
    "#SBATCH -J array_hc_FNAME\n",
    "#SBATCH -e arrayjob_%A_%a.err\n",
    "#SBATCH -o arrayjob_%A_%a.out\n",
    "#SBATCH --mem-per-cpu=5000  # requested memory per process in MB\n",
    "#SBATCH --array=1-183\n",
    "\n",
    "SDIR=$(pwd)\n",
    "module load orca-env/4.0.1.2\n",
    "\n",
    "\n",
    "dir=$(sed -n \"$SLURM_ARRAY_TASK_ID\"p calcdirs.txt)\n",
    "\n",
    "\n",
    "cd $dir\n",
    "\n",
    "start=$(date +%s)\n",
    "printf \"Starting $dir ...\"\n",
    "\n",
    "$USERAPPL/orca_4_0_1_2_linux_x86-64_openmpi202/orca  orca.inp > orca.out\n",
    "\n",
    "end=$(date +%s)\n",
    "runtime=$( echo \"$end - $start\" | bc -l )\n",
    "printf \"done, time: $runtime s\\n\"\n",
    "\n",
    "\n",
    "echo $dir >> $SDIR/donecalcs.txt\n",
    "cd $SDIR\n",
    "```"
   ]
  },
  {
   "cell_type": "markdown",
   "metadata": {},
   "source": [
    "# Parsing the results\n",
    "\n",
    "- The results are parsed on taito with the following script\n",
    "- Parsing is done with the [cclib](https://cclib.github.io/) library\n",
    "- Outputs are saved in .h5 format using deepdish\n",
    "\n",
    "```python\n",
    "import cclib\n",
    "import io\n",
    "import os\n",
    "import deepdish\n",
    "\n",
    "def parse_out(path):\n",
    "    resdir = {}\n",
    "    resdir[\"System\"] = system\n",
    "    try:\n",
    "        with open(os.path.join(path, \"orca.out\")) as f:\n",
    "            inp = f.read()\n",
    "    except:\n",
    "        resdir[\"Error\"] : \"NoOutput\"\n",
    "        return resdir\n",
    "\n",
    "    checkline = inp.split(\"\\n\")[-3]\n",
    "\n",
    "    if \"ORCA TERMINATED NORMALLY\" not in checkline:\n",
    "        resdir[\"Error\"] = \"CalcError\"\n",
    "        return resdir\n",
    "\n",
    "    try:\n",
    "        inp_io = io.StringIO(inp)\n",
    "        parser = cclib.io.ccopen(inp_io)\n",
    "        data = parser.parse()\n",
    "        results = cclib.io.cjsonwriter.CJSON(data).as_dict()\n",
    "        resdir[\"calcres\"] = results\n",
    "        return resdir\n",
    "    except:\n",
    "        resdir[\"Error\"] : \"CantParse\"\n",
    "        return resdir\n",
    "\n",
    "with open(calcpath_file, 'r') as f:\n",
    "    calcpaths = f.readlines()\n",
    "calcpaths = [r.strip() for r in calcpaths]\n",
    "\n",
    "results = {}\n",
    "for path in calcpaths:\n",
    "    system = int(path.split(\"/\")[-1])\n",
    "    result_dict = parse_out(path)\n",
    "    results[system] = result_dict\n",
    "\n",
    "deepdish.io.save(\"cclib_results.h5\", results)\t\n",
    "```"
   ]
  },
  {
   "cell_type": "markdown",
   "metadata": {},
   "source": [
    "## Add HOMO, gap energies to the dataframe\n",
    "\n",
    "- Transfer the cclib_results.h5 from taito, parse some values\n",
    "    - In .h5 format, opened with deepdish\n"
   ]
  },
  {
   "cell_type": "code",
   "execution_count": 17,
   "metadata": {},
   "outputs": [],
   "source": [
    "cclib_results = deepdish.io.load(\"cclib_results.h5\")"
   ]
  },
  {
   "cell_type": "markdown",
   "metadata": {},
   "source": [
    "cclib_results is a nested dictionary. Top level key is the system index, and it contains a lot of stuff parsed from the output."
   ]
  },
  {
   "cell_type": "code",
   "execution_count": 18,
   "metadata": {},
   "outputs": [
    {
     "data": {
      "text/plain": [
       "{'partial charges': {'mulliken': array([-0.448052, -0.112581, -0.307046, -0.3829  , -0.299734, -0.368526,\n",
       "         -0.091012,  0.164846,  0.185427,  0.18045 ,  0.153916,  0.160558,\n",
       "          0.164214,  0.170314,  0.164297,  0.157485,  0.160298,  0.16245 ,\n",
       "          0.185596]),\n",
       "  'lowdin': array([-0.303291, -0.199821, -0.284005, -0.302164, -0.292695, -0.286441,\n",
       "         -0.203216,  0.160971,  0.16146 ,  0.160911,  0.153691,  0.153932,\n",
       "          0.150793,  0.153688,  0.151259,  0.15234 ,  0.154211,  0.15634 ,\n",
       "          0.162039])},\n",
       " 'charge': 0,\n",
       " 'orbitals': {'homos': array([26], dtype=int32),\n",
       "  'energies': [array([-269.04584847, -269.04073273, -268.88424005, -268.87327387,\n",
       "          -268.84796728, -268.81898715, -268.8188511 ,  -21.71588257,\n",
       "           -19.46378671,  -18.28732969,  -15.96951833,  -14.78193186,\n",
       "           -14.10298059,  -12.71797551,  -12.29957325,  -11.01440675,\n",
       "           -10.63671272,  -10.41640935,  -10.1110704 ,   -9.10539203,\n",
       "            -8.81575405,   -8.35299723,   -7.88351921,   -7.85829425,\n",
       "            -7.26794326,   -6.36414431,   -6.18495734,    0.70458439,\n",
       "             1.2144169 ,    1.55910352,    1.65853392,    2.19250293,\n",
       "             2.29299457,    2.479964  ,    2.57182964,    2.77158841,\n",
       "             3.24171951,    3.46194125,    3.62183535,    3.80717209,\n",
       "             4.50519854,    4.5593492 ,    4.93410439,    5.14618993,\n",
       "             5.50861837,    5.60821204,    5.79735837,    5.96781049,\n",
       "             6.40934242,    6.78619289,    7.20413256,    7.35379518,\n",
       "             7.89190031,    8.15372826,    8.57349109,    9.16095768,\n",
       "             9.42139785,   10.04045686,   10.16228223,   10.27003931,\n",
       "            10.663652  ,   10.84732885,   11.14684456,   11.35599127,\n",
       "            11.4368635 ,   11.62620032,   11.76361781,   11.84168728,\n",
       "            12.00430251,   12.04539171,   12.19377539,   12.4163101 ,\n",
       "            12.55478883,   12.71528158,   12.99977661,   13.13504441,\n",
       "            13.69723162,   13.86028224,   14.48154538,   15.05842674,\n",
       "            15.51974135,   16.36038267,   17.61333089,   18.43228474,\n",
       "            18.73933801,   19.60348996,   21.06841487,   33.80426827,\n",
       "            34.27350139,   34.89188011,   35.51006836,   36.13764453,\n",
       "            36.47400446,   36.80995622,   36.96617679,   37.53568386,\n",
       "            37.86739065,   38.20562816,   38.30641913,   38.90999487,\n",
       "            39.02349355,   39.32877808,   40.10397602,   40.50417386,\n",
       "            41.01460502,   41.70430478,   41.98052755,   42.42793715,\n",
       "            43.08335057,   43.46466371,   43.91093042,   44.24103173,\n",
       "            44.72286373,   45.30418055,   45.52954524,   45.83191815,\n",
       "            46.66064088,   47.2257125 ,   47.7441166 ,   48.2068462 ,\n",
       "            48.29321514,   48.63488129,   49.08378751,   49.53922446,\n",
       "            50.06032248,   50.82180588,   51.24818107,   51.98596336,\n",
       "            52.56102156,   53.1390458 ,   53.91280153,   54.17724177,\n",
       "            56.05624233,   56.68896146,   57.31509543,   58.70355635,\n",
       "            60.24491805,   61.74372113,   62.09526502,   64.29582251,\n",
       "            64.58927009,   64.93333084,   66.98664754,   67.7126745 ,\n",
       "            68.09839588,   69.3991273 ,   70.55982893,   73.15593112,\n",
       "            73.62086485,   75.33975362,   75.72675394,   76.35596279,\n",
       "            77.79718659,   78.17670378,   80.57753707,   82.46372143,\n",
       "            84.27861197,   85.71387648,   86.19826634,   86.34251389,\n",
       "            86.6245599 ,   88.68780875,  586.71934   ,  589.70998006,\n",
       "           590.086504  ,  594.41412104,  595.95980935,  596.87522755,\n",
       "           597.12736824])],\n",
       "  'basis number': 169,\n",
       "  'MO number': 169},\n",
       " 'total dipole moment': 0.19021329730213526,\n",
       " 'multiplicity': 1,\n",
       " 'number of atoms': 19,\n",
       " 'energy': {'alpha': {'homo': -6.18495734216965, 'gap': 6.8895417352693},\n",
       "  'beta': {'homo': -6.18495734216965, 'gap': 6.8895417352693},\n",
       "  'total': -7448.289067787876}}"
      ]
     },
     "execution_count": 18,
     "metadata": {},
     "output_type": "execute_result"
    }
   ],
   "source": [
    "cclib_results[0][\"calcres\"][\"properties\"]"
   ]
  },
  {
   "cell_type": "markdown",
   "metadata": {},
   "source": [
    "For our purpose, we only get the HOMO and gap"
   ]
  },
  {
   "cell_type": "code",
   "execution_count": 55,
   "metadata": {},
   "outputs": [
    {
     "ename": "ValueError",
     "evalue": "only recognize index or columns for orient",
     "output_type": "error",
     "traceback": [
      "\u001b[0;31m---------------------------------------------------------------------------\u001b[0m",
      "\u001b[0;31mValueError\u001b[0m                                Traceback (most recent call last)",
      "\u001b[0;32m<ipython-input-55-5e622a45c68c>\u001b[0m in \u001b[0;36m<module>\u001b[0;34m\u001b[0m\n\u001b[1;32m     13\u001b[0m \u001b[0;34m\u001b[0m\u001b[0m\n\u001b[1;32m     14\u001b[0m \u001b[0;34m\u001b[0m\u001b[0m\n\u001b[0;32m---> 15\u001b[0;31m \u001b[0mproperties_df\u001b[0m \u001b[0;34m=\u001b[0m \u001b[0mpd\u001b[0m\u001b[0;34m.\u001b[0m\u001b[0mDataFrame\u001b[0m\u001b[0;34m.\u001b[0m\u001b[0mfrom_dict\u001b[0m\u001b[0;34m(\u001b[0m\u001b[0mproperties\u001b[0m\u001b[0;34m,\u001b[0m \u001b[0morient\u001b[0m\u001b[0;34m=\u001b[0m\u001b[0;34m\"rows\"\u001b[0m\u001b[0;34m)\u001b[0m\u001b[0;34m\u001b[0m\u001b[0;34m\u001b[0m\u001b[0m\n\u001b[0m",
      "\u001b[0;32m~/anaconda3/envs/my-rdkit-env/lib/python3.6/site-packages/pandas/core/frame.py\u001b[0m in \u001b[0;36mfrom_dict\u001b[0;34m(cls, data, orient, dtype, columns)\u001b[0m\n\u001b[1;32m   1134\u001b[0m                                  \"orient='columns'\")\n\u001b[1;32m   1135\u001b[0m         \u001b[0;32melse\u001b[0m\u001b[0;34m:\u001b[0m  \u001b[0;31m# pragma: no cover\u001b[0m\u001b[0;34m\u001b[0m\u001b[0;34m\u001b[0m\u001b[0m\n\u001b[0;32m-> 1136\u001b[0;31m             \u001b[0;32mraise\u001b[0m \u001b[0mValueError\u001b[0m\u001b[0;34m(\u001b[0m\u001b[0;34m'only recognize index or columns for orient'\u001b[0m\u001b[0;34m)\u001b[0m\u001b[0;34m\u001b[0m\u001b[0;34m\u001b[0m\u001b[0m\n\u001b[0m\u001b[1;32m   1137\u001b[0m \u001b[0;34m\u001b[0m\u001b[0m\n\u001b[1;32m   1138\u001b[0m         \u001b[0;32mreturn\u001b[0m \u001b[0mcls\u001b[0m\u001b[0;34m(\u001b[0m\u001b[0mdata\u001b[0m\u001b[0;34m,\u001b[0m \u001b[0mindex\u001b[0m\u001b[0;34m=\u001b[0m\u001b[0mindex\u001b[0m\u001b[0;34m,\u001b[0m \u001b[0mcolumns\u001b[0m\u001b[0;34m=\u001b[0m\u001b[0mcolumns\u001b[0m\u001b[0;34m,\u001b[0m \u001b[0mdtype\u001b[0m\u001b[0;34m=\u001b[0m\u001b[0mdtype\u001b[0m\u001b[0;34m)\u001b[0m\u001b[0;34m\u001b[0m\u001b[0;34m\u001b[0m\u001b[0m\n",
      "\u001b[0;31mValueError\u001b[0m: only recognize index or columns for orient"
     ]
    }
   ],
   "source": [
    "properties = {}\n",
    "for system_index in cclib_results:\n",
    "    try:\n",
    "        homo = cclib_results[system_index][\"calcres\"][\"properties\"][\"energy\"][\"alpha\"][\"homo\"]\n",
    "        gap = cclib_results[system_index][\"calcres\"][\"properties\"][\"energy\"][\"alpha\"][\"gap\"]\n",
    "        dipole = cclib_results[system_index][\"calcres\"][\"properties\"]['total dipole moment']\n",
    "        properties[system_index] = {\"homo\" : homo, \n",
    "                              \"gap\" : gap, \n",
    "                              \"dipole\" : dipole}\n",
    "    except:\n",
    "        # Not all molecules have data as their calculation didn't converge\n",
    "        pass\n",
    "    \n",
    "    \n",
    "properties_df = pd.DataFrame.from_dict(properties, orient=\"rows\")"
   ]
  },
  {
   "cell_type": "code",
   "execution_count": 54,
   "metadata": {},
   "outputs": [
    {
     "data": {
      "text/html": [
       "<div>\n",
       "<style scoped>\n",
       "    .dataframe tbody tr th:only-of-type {\n",
       "        vertical-align: middle;\n",
       "    }\n",
       "\n",
       "    .dataframe tbody tr th {\n",
       "        vertical-align: top;\n",
       "    }\n",
       "\n",
       "    .dataframe thead th {\n",
       "        text-align: right;\n",
       "    }\n",
       "</style>\n",
       "<table border=\"1\" class=\"dataframe\">\n",
       "  <thead>\n",
       "    <tr style=\"text-align: right;\">\n",
       "      <th></th>\n",
       "      <th>37</th>\n",
       "      <th>1385</th>\n",
       "      <th>1391</th>\n",
       "      <th>350</th>\n",
       "      <th>197</th>\n",
       "      <th>33</th>\n",
       "      <th>171</th>\n",
       "      <th>59</th>\n",
       "      <th>3</th>\n",
       "      <th>96</th>\n",
       "      <th>...</th>\n",
       "      <th>151</th>\n",
       "      <th>5</th>\n",
       "      <th>84</th>\n",
       "      <th>2</th>\n",
       "      <th>119</th>\n",
       "      <th>285</th>\n",
       "      <th>92</th>\n",
       "      <th>144</th>\n",
       "      <th>38</th>\n",
       "      <th>136</th>\n",
       "    </tr>\n",
       "  </thead>\n",
       "  <tbody>\n",
       "    <tr>\n",
       "      <th>dipole</th>\n",
       "      <td>3.373834</td>\n",
       "      <td>1.913407</td>\n",
       "      <td>1.772523</td>\n",
       "      <td>1.269972</td>\n",
       "      <td>4.477829</td>\n",
       "      <td>1.846232</td>\n",
       "      <td>1.102278</td>\n",
       "      <td>0.191808</td>\n",
       "      <td>0.948913</td>\n",
       "      <td>0.650454</td>\n",
       "      <td>...</td>\n",
       "      <td>1.280893</td>\n",
       "      <td>0.336035</td>\n",
       "      <td>1.667534</td>\n",
       "      <td>0.292616</td>\n",
       "      <td>1.429022</td>\n",
       "      <td>0.251110</td>\n",
       "      <td>1.394152</td>\n",
       "      <td>1.055639</td>\n",
       "      <td>0.460746</td>\n",
       "      <td>3.051191</td>\n",
       "    </tr>\n",
       "    <tr>\n",
       "      <th>gap</th>\n",
       "      <td>4.066469</td>\n",
       "      <td>6.267489</td>\n",
       "      <td>6.527413</td>\n",
       "      <td>4.288732</td>\n",
       "      <td>3.257720</td>\n",
       "      <td>5.096121</td>\n",
       "      <td>2.426303</td>\n",
       "      <td>4.676222</td>\n",
       "      <td>2.156529</td>\n",
       "      <td>4.886947</td>\n",
       "      <td>...</td>\n",
       "      <td>4.236350</td>\n",
       "      <td>5.496156</td>\n",
       "      <td>5.074624</td>\n",
       "      <td>5.394793</td>\n",
       "      <td>4.473769</td>\n",
       "      <td>4.878131</td>\n",
       "      <td>6.133854</td>\n",
       "      <td>4.303290</td>\n",
       "      <td>4.759679</td>\n",
       "      <td>3.972889</td>\n",
       "    </tr>\n",
       "    <tr>\n",
       "      <th>homo</th>\n",
       "      <td>-5.331336</td>\n",
       "      <td>-5.930966</td>\n",
       "      <td>-5.937551</td>\n",
       "      <td>-5.180558</td>\n",
       "      <td>-6.371301</td>\n",
       "      <td>-5.533435</td>\n",
       "      <td>-5.818257</td>\n",
       "      <td>-4.841803</td>\n",
       "      <td>-4.800551</td>\n",
       "      <td>-5.667642</td>\n",
       "      <td>...</td>\n",
       "      <td>-5.168177</td>\n",
       "      <td>-5.648730</td>\n",
       "      <td>-5.325785</td>\n",
       "      <td>-5.577681</td>\n",
       "      <td>-5.141727</td>\n",
       "      <td>-5.035630</td>\n",
       "      <td>-5.791780</td>\n",
       "      <td>-5.074434</td>\n",
       "      <td>-5.091658</td>\n",
       "      <td>-5.435311</td>\n",
       "    </tr>\n",
       "  </tbody>\n",
       "</table>\n",
       "<p>3 rows × 162 columns</p>\n",
       "</div>"
      ],
      "text/plain": [
       "            37        1385      1391      350       197       33        171   \\\n",
       "dipole  3.373834  1.913407  1.772523  1.269972  4.477829  1.846232  1.102278   \n",
       "gap     4.066469  6.267489  6.527413  4.288732  3.257720  5.096121  2.426303   \n",
       "homo   -5.331336 -5.930966 -5.937551 -5.180558 -6.371301 -5.533435 -5.818257   \n",
       "\n",
       "            59        3         96    ...      151       5         84    \\\n",
       "dipole  0.191808  0.948913  0.650454  ...  1.280893  0.336035  1.667534   \n",
       "gap     4.676222  2.156529  4.886947  ...  4.236350  5.496156  5.074624   \n",
       "homo   -4.841803 -4.800551 -5.667642  ... -5.168177 -5.648730 -5.325785   \n",
       "\n",
       "            2         119       285       92        144       38        136   \n",
       "dipole  0.292616  1.429022  0.251110  1.394152  1.055639  0.460746  3.051191  \n",
       "gap     5.394793  4.473769  4.878131  6.133854  4.303290  4.759679  3.972889  \n",
       "homo   -5.577681 -5.141727 -5.035630 -5.791780 -5.074434 -5.091658 -5.435311  \n",
       "\n",
       "[3 rows x 162 columns]"
      ]
     },
     "execution_count": 54,
     "metadata": {},
     "output_type": "execute_result"
    }
   ],
   "source": [
    "properties_df.head()"
   ]
  },
  {
   "cell_type": "code",
   "execution_count": null,
   "metadata": {},
   "outputs": [],
   "source": [
    "rigid_molecules = pd.concat([rigid_molecules, properties_df], axis=0)\n"
   ]
  },
  {
   "cell_type": "code",
   "execution_count": 51,
   "metadata": {},
   "outputs": [
    {
     "data": {
      "text/html": [
       "<div>\n",
       "<style scoped>\n",
       "    .dataframe tbody tr th:only-of-type {\n",
       "        vertical-align: middle;\n",
       "    }\n",
       "\n",
       "    .dataframe tbody tr th {\n",
       "        vertical-align: top;\n",
       "    }\n",
       "\n",
       "    .dataframe thead th {\n",
       "        text-align: right;\n",
       "    }\n",
       "</style>\n",
       "<table border=\"1\" class=\"dataframe\">\n",
       "  <thead>\n",
       "    <tr style=\"text-align: right;\">\n",
       "      <th></th>\n",
       "      <th>0</th>\n",
       "      <th>1</th>\n",
       "      <th>2</th>\n",
       "      <th>3</th>\n",
       "      <th>4</th>\n",
       "      <th>5</th>\n",
       "      <th>6</th>\n",
       "      <th>8</th>\n",
       "      <th>9</th>\n",
       "      <th>10</th>\n",
       "      <th>...</th>\n",
       "      <th>1390</th>\n",
       "      <th>1391</th>\n",
       "      <th>1406</th>\n",
       "      <th>1408</th>\n",
       "      <th>1409</th>\n",
       "      <th>1410</th>\n",
       "      <th>1471</th>\n",
       "      <th>NRotBonds</th>\n",
       "      <th>SMILES</th>\n",
       "      <th>xyz</th>\n",
       "    </tr>\n",
       "  </thead>\n",
       "  <tbody>\n",
       "    <tr>\n",
       "      <th>0</th>\n",
       "      <td>NaN</td>\n",
       "      <td>NaN</td>\n",
       "      <td>NaN</td>\n",
       "      <td>NaN</td>\n",
       "      <td>NaN</td>\n",
       "      <td>NaN</td>\n",
       "      <td>NaN</td>\n",
       "      <td>NaN</td>\n",
       "      <td>NaN</td>\n",
       "      <td>NaN</td>\n",
       "      <td>...</td>\n",
       "      <td>NaN</td>\n",
       "      <td>NaN</td>\n",
       "      <td>NaN</td>\n",
       "      <td>NaN</td>\n",
       "      <td>NaN</td>\n",
       "      <td>NaN</td>\n",
       "      <td>NaN</td>\n",
       "      <td>0.0</td>\n",
       "      <td>C1C2CCCCC12</td>\n",
       "      <td>19\\n\\nC  2.0889  -0.2624  -0.2700\\nC  0.9608  ...</td>\n",
       "    </tr>\n",
       "    <tr>\n",
       "      <th>1</th>\n",
       "      <td>NaN</td>\n",
       "      <td>NaN</td>\n",
       "      <td>NaN</td>\n",
       "      <td>NaN</td>\n",
       "      <td>NaN</td>\n",
       "      <td>NaN</td>\n",
       "      <td>NaN</td>\n",
       "      <td>NaN</td>\n",
       "      <td>NaN</td>\n",
       "      <td>NaN</td>\n",
       "      <td>...</td>\n",
       "      <td>NaN</td>\n",
       "      <td>NaN</td>\n",
       "      <td>NaN</td>\n",
       "      <td>NaN</td>\n",
       "      <td>NaN</td>\n",
       "      <td>NaN</td>\n",
       "      <td>NaN</td>\n",
       "      <td>0.0</td>\n",
       "      <td>C1=CC2=C(C=C1)C=CC=C2</td>\n",
       "      <td>18\\n\\nC  2.3965  -0.1280  -0.7519\\nC  1.2891  ...</td>\n",
       "    </tr>\n",
       "  </tbody>\n",
       "</table>\n",
       "<p>2 rows × 165 columns</p>\n",
       "</div>"
      ],
      "text/plain": [
       "    0   1   2   3   4   5   6   8   9  10  ...  1390  1391  1406  1408  1409  \\\n",
       "0 NaN NaN NaN NaN NaN NaN NaN NaN NaN NaN  ...   NaN   NaN   NaN   NaN   NaN   \n",
       "1 NaN NaN NaN NaN NaN NaN NaN NaN NaN NaN  ...   NaN   NaN   NaN   NaN   NaN   \n",
       "\n",
       "   1410  1471  NRotBonds                 SMILES  \\\n",
       "0   NaN   NaN        0.0            C1C2CCCCC12   \n",
       "1   NaN   NaN        0.0  C1=CC2=C(C=C1)C=CC=C2   \n",
       "\n",
       "                                                 xyz  \n",
       "0  19\\n\\nC  2.0889  -0.2624  -0.2700\\nC  0.9608  ...  \n",
       "1  18\\n\\nC  2.3965  -0.1280  -0.7519\\nC  1.2891  ...  \n",
       "\n",
       "[2 rows x 165 columns]"
      ]
     },
     "execution_count": 51,
     "metadata": {},
     "output_type": "execute_result"
    }
   ],
   "source": [
    "rigid_molecules.head(n=2)"
   ]
  },
  {
   "cell_type": "code",
   "execution_count": 9,
   "metadata": {},
   "outputs": [
    {
     "data": {
      "text/html": [
       "<div>\n",
       "<style scoped>\n",
       "    .dataframe tbody tr th:only-of-type {\n",
       "        vertical-align: middle;\n",
       "    }\n",
       "\n",
       "    .dataframe tbody tr th {\n",
       "        vertical-align: top;\n",
       "    }\n",
       "\n",
       "    .dataframe thead th {\n",
       "        text-align: right;\n",
       "    }\n",
       "</style>\n",
       "<table border=\"1\" class=\"dataframe\">\n",
       "  <thead>\n",
       "    <tr style=\"text-align: right;\">\n",
       "      <th></th>\n",
       "      <th>SMILES</th>\n",
       "      <th>NRotBonds</th>\n",
       "      <th>xyz</th>\n",
       "    </tr>\n",
       "  </thead>\n",
       "  <tbody>\n",
       "    <tr>\n",
       "      <th>0</th>\n",
       "      <td>C1C2CCCCC12</td>\n",
       "      <td>0</td>\n",
       "      <td>19\\n\\nC  2.0889  -0.2624  -0.2700\\nC  0.9608  ...</td>\n",
       "    </tr>\n",
       "    <tr>\n",
       "      <th>1</th>\n",
       "      <td>C1=CC2=C(C=C1)C=CC=C2</td>\n",
       "      <td>0</td>\n",
       "      <td>18\\n\\nC  2.3965  -0.1280  -0.7519\\nC  1.2891  ...</td>\n",
       "    </tr>\n",
       "  </tbody>\n",
       "</table>\n",
       "</div>"
      ],
      "text/plain": [
       "                  SMILES  NRotBonds  \\\n",
       "0            C1C2CCCCC12          0   \n",
       "1  C1=CC2=C(C=C1)C=CC=C2          0   \n",
       "\n",
       "                                                 xyz  \n",
       "0  19\\n\\nC  2.0889  -0.2624  -0.2700\\nC  0.9608  ...  \n",
       "1  18\\n\\nC  2.3965  -0.1280  -0.7519\\nC  1.2891  ...  "
      ]
     },
     "execution_count": 9,
     "metadata": {},
     "output_type": "execute_result"
    }
   ],
   "source": [
    "rigid_molecules.head(n=2)"
   ]
  },
  {
   "cell_type": "markdown",
   "metadata": {},
   "source": [
    "# See how properties are distributed"
   ]
  },
  {
   "cell_type": "code",
   "execution_count": 8,
   "metadata": {},
   "outputs": [
    {
     "ename": "KeyError",
     "evalue": "'homo'",
     "output_type": "error",
     "traceback": [
      "\u001b[0;31m---------------------------------------------------------------------------\u001b[0m",
      "\u001b[0;31mKeyError\u001b[0m                                  Traceback (most recent call last)",
      "\u001b[0;32m~/anaconda3/envs/my-rdkit-env/lib/python3.6/site-packages/pandas/core/indexes/base.py\u001b[0m in \u001b[0;36mget_loc\u001b[0;34m(self, key, method, tolerance)\u001b[0m\n\u001b[1;32m   2656\u001b[0m             \u001b[0;32mtry\u001b[0m\u001b[0;34m:\u001b[0m\u001b[0;34m\u001b[0m\u001b[0;34m\u001b[0m\u001b[0m\n\u001b[0;32m-> 2657\u001b[0;31m                 \u001b[0;32mreturn\u001b[0m \u001b[0mself\u001b[0m\u001b[0;34m.\u001b[0m\u001b[0m_engine\u001b[0m\u001b[0;34m.\u001b[0m\u001b[0mget_loc\u001b[0m\u001b[0;34m(\u001b[0m\u001b[0mkey\u001b[0m\u001b[0;34m)\u001b[0m\u001b[0;34m\u001b[0m\u001b[0;34m\u001b[0m\u001b[0m\n\u001b[0m\u001b[1;32m   2658\u001b[0m             \u001b[0;32mexcept\u001b[0m \u001b[0mKeyError\u001b[0m\u001b[0;34m:\u001b[0m\u001b[0;34m\u001b[0m\u001b[0;34m\u001b[0m\u001b[0m\n",
      "\u001b[0;32mpandas/_libs/index.pyx\u001b[0m in \u001b[0;36mpandas._libs.index.IndexEngine.get_loc\u001b[0;34m()\u001b[0m\n",
      "\u001b[0;32mpandas/_libs/index.pyx\u001b[0m in \u001b[0;36mpandas._libs.index.IndexEngine.get_loc\u001b[0;34m()\u001b[0m\n",
      "\u001b[0;32mpandas/_libs/hashtable_class_helper.pxi\u001b[0m in \u001b[0;36mpandas._libs.hashtable.PyObjectHashTable.get_item\u001b[0;34m()\u001b[0m\n",
      "\u001b[0;32mpandas/_libs/hashtable_class_helper.pxi\u001b[0m in \u001b[0;36mpandas._libs.hashtable.PyObjectHashTable.get_item\u001b[0;34m()\u001b[0m\n",
      "\u001b[0;31mKeyError\u001b[0m: 'homo'",
      "\nDuring handling of the above exception, another exception occurred:\n",
      "\u001b[0;31mKeyError\u001b[0m                                  Traceback (most recent call last)",
      "\u001b[0;32m<ipython-input-8-e18e9584d016>\u001b[0m in \u001b[0;36m<module>\u001b[0;34m\u001b[0m\n\u001b[0;32m----> 1\u001b[0;31m \u001b[0mrigid_molecules\u001b[0m\u001b[0;34m[\u001b[0m\u001b[0;34m\"homo\"\u001b[0m\u001b[0;34m]\u001b[0m\u001b[0;34m.\u001b[0m\u001b[0mhist\u001b[0m\u001b[0;34m(\u001b[0m\u001b[0mbins\u001b[0m\u001b[0;34m=\u001b[0m\u001b[0;36m20\u001b[0m\u001b[0;34m)\u001b[0m\u001b[0;34m\u001b[0m\u001b[0;34m\u001b[0m\u001b[0m\n\u001b[0m\u001b[1;32m      2\u001b[0m \u001b[0mplt\u001b[0m\u001b[0;34m.\u001b[0m\u001b[0mxlabel\u001b[0m\u001b[0;34m(\u001b[0m\u001b[0;34m\"E(HOMO) (eV)\"\u001b[0m\u001b[0;34m)\u001b[0m\u001b[0;34m\u001b[0m\u001b[0;34m\u001b[0m\u001b[0m\n\u001b[1;32m      3\u001b[0m \u001b[0mplt\u001b[0m\u001b[0;34m.\u001b[0m\u001b[0mylabel\u001b[0m\u001b[0;34m(\u001b[0m\u001b[0;34m\"Count\"\u001b[0m\u001b[0;34m)\u001b[0m\u001b[0;34m\u001b[0m\u001b[0;34m\u001b[0m\u001b[0m\n",
      "\u001b[0;32m~/anaconda3/envs/my-rdkit-env/lib/python3.6/site-packages/pandas/core/frame.py\u001b[0m in \u001b[0;36m__getitem__\u001b[0;34m(self, key)\u001b[0m\n\u001b[1;32m   2925\u001b[0m             \u001b[0;32mif\u001b[0m \u001b[0mself\u001b[0m\u001b[0;34m.\u001b[0m\u001b[0mcolumns\u001b[0m\u001b[0;34m.\u001b[0m\u001b[0mnlevels\u001b[0m \u001b[0;34m>\u001b[0m \u001b[0;36m1\u001b[0m\u001b[0;34m:\u001b[0m\u001b[0;34m\u001b[0m\u001b[0;34m\u001b[0m\u001b[0m\n\u001b[1;32m   2926\u001b[0m                 \u001b[0;32mreturn\u001b[0m \u001b[0mself\u001b[0m\u001b[0;34m.\u001b[0m\u001b[0m_getitem_multilevel\u001b[0m\u001b[0;34m(\u001b[0m\u001b[0mkey\u001b[0m\u001b[0;34m)\u001b[0m\u001b[0;34m\u001b[0m\u001b[0;34m\u001b[0m\u001b[0m\n\u001b[0;32m-> 2927\u001b[0;31m             \u001b[0mindexer\u001b[0m \u001b[0;34m=\u001b[0m \u001b[0mself\u001b[0m\u001b[0;34m.\u001b[0m\u001b[0mcolumns\u001b[0m\u001b[0;34m.\u001b[0m\u001b[0mget_loc\u001b[0m\u001b[0;34m(\u001b[0m\u001b[0mkey\u001b[0m\u001b[0;34m)\u001b[0m\u001b[0;34m\u001b[0m\u001b[0;34m\u001b[0m\u001b[0m\n\u001b[0m\u001b[1;32m   2928\u001b[0m             \u001b[0;32mif\u001b[0m \u001b[0mis_integer\u001b[0m\u001b[0;34m(\u001b[0m\u001b[0mindexer\u001b[0m\u001b[0;34m)\u001b[0m\u001b[0;34m:\u001b[0m\u001b[0;34m\u001b[0m\u001b[0;34m\u001b[0m\u001b[0m\n\u001b[1;32m   2929\u001b[0m                 \u001b[0mindexer\u001b[0m \u001b[0;34m=\u001b[0m \u001b[0;34m[\u001b[0m\u001b[0mindexer\u001b[0m\u001b[0;34m]\u001b[0m\u001b[0;34m\u001b[0m\u001b[0;34m\u001b[0m\u001b[0m\n",
      "\u001b[0;32m~/anaconda3/envs/my-rdkit-env/lib/python3.6/site-packages/pandas/core/indexes/base.py\u001b[0m in \u001b[0;36mget_loc\u001b[0;34m(self, key, method, tolerance)\u001b[0m\n\u001b[1;32m   2657\u001b[0m                 \u001b[0;32mreturn\u001b[0m \u001b[0mself\u001b[0m\u001b[0;34m.\u001b[0m\u001b[0m_engine\u001b[0m\u001b[0;34m.\u001b[0m\u001b[0mget_loc\u001b[0m\u001b[0;34m(\u001b[0m\u001b[0mkey\u001b[0m\u001b[0;34m)\u001b[0m\u001b[0;34m\u001b[0m\u001b[0;34m\u001b[0m\u001b[0m\n\u001b[1;32m   2658\u001b[0m             \u001b[0;32mexcept\u001b[0m \u001b[0mKeyError\u001b[0m\u001b[0;34m:\u001b[0m\u001b[0;34m\u001b[0m\u001b[0;34m\u001b[0m\u001b[0m\n\u001b[0;32m-> 2659\u001b[0;31m                 \u001b[0;32mreturn\u001b[0m \u001b[0mself\u001b[0m\u001b[0;34m.\u001b[0m\u001b[0m_engine\u001b[0m\u001b[0;34m.\u001b[0m\u001b[0mget_loc\u001b[0m\u001b[0;34m(\u001b[0m\u001b[0mself\u001b[0m\u001b[0;34m.\u001b[0m\u001b[0m_maybe_cast_indexer\u001b[0m\u001b[0;34m(\u001b[0m\u001b[0mkey\u001b[0m\u001b[0;34m)\u001b[0m\u001b[0;34m)\u001b[0m\u001b[0;34m\u001b[0m\u001b[0;34m\u001b[0m\u001b[0m\n\u001b[0m\u001b[1;32m   2660\u001b[0m         \u001b[0mindexer\u001b[0m \u001b[0;34m=\u001b[0m \u001b[0mself\u001b[0m\u001b[0;34m.\u001b[0m\u001b[0mget_indexer\u001b[0m\u001b[0;34m(\u001b[0m\u001b[0;34m[\u001b[0m\u001b[0mkey\u001b[0m\u001b[0;34m]\u001b[0m\u001b[0;34m,\u001b[0m \u001b[0mmethod\u001b[0m\u001b[0;34m=\u001b[0m\u001b[0mmethod\u001b[0m\u001b[0;34m,\u001b[0m \u001b[0mtolerance\u001b[0m\u001b[0;34m=\u001b[0m\u001b[0mtolerance\u001b[0m\u001b[0;34m)\u001b[0m\u001b[0;34m\u001b[0m\u001b[0;34m\u001b[0m\u001b[0m\n\u001b[1;32m   2661\u001b[0m         \u001b[0;32mif\u001b[0m \u001b[0mindexer\u001b[0m\u001b[0;34m.\u001b[0m\u001b[0mndim\u001b[0m \u001b[0;34m>\u001b[0m \u001b[0;36m1\u001b[0m \u001b[0;32mor\u001b[0m \u001b[0mindexer\u001b[0m\u001b[0;34m.\u001b[0m\u001b[0msize\u001b[0m \u001b[0;34m>\u001b[0m \u001b[0;36m1\u001b[0m\u001b[0;34m:\u001b[0m\u001b[0;34m\u001b[0m\u001b[0;34m\u001b[0m\u001b[0m\n",
      "\u001b[0;32mpandas/_libs/index.pyx\u001b[0m in \u001b[0;36mpandas._libs.index.IndexEngine.get_loc\u001b[0;34m()\u001b[0m\n",
      "\u001b[0;32mpandas/_libs/index.pyx\u001b[0m in \u001b[0;36mpandas._libs.index.IndexEngine.get_loc\u001b[0;34m()\u001b[0m\n",
      "\u001b[0;32mpandas/_libs/hashtable_class_helper.pxi\u001b[0m in \u001b[0;36mpandas._libs.hashtable.PyObjectHashTable.get_item\u001b[0;34m()\u001b[0m\n",
      "\u001b[0;32mpandas/_libs/hashtable_class_helper.pxi\u001b[0m in \u001b[0;36mpandas._libs.hashtable.PyObjectHashTable.get_item\u001b[0;34m()\u001b[0m\n",
      "\u001b[0;31mKeyError\u001b[0m: 'homo'"
     ]
    }
   ],
   "source": [
    "rigid_molecules[\"homo\"].hist(bins=20)\n",
    "plt.xlabel(\"E(HOMO) (eV)\")\n",
    "plt.ylabel(\"Count\")"
   ]
  },
  {
   "cell_type": "code",
   "execution_count": null,
   "metadata": {},
   "outputs": [],
   "source": [
    "rigid_molecules[\"gap\"].hist(bins=20)\n",
    "plt.xlabel(\"HOMO-LUMO gap (eV)\")\n",
    "plt.ylabel(\"Count\")"
   ]
  },
  {
   "cell_type": "code",
   "execution_count": null,
   "metadata": {},
   "outputs": [],
   "source": [
    "rigid_molecules[\"dipole\"].hist(bins=20)\n",
    "plt.xlabel(\"Dipole moment (debye)\")\n",
    "plt.ylabel(\"Count\")"
   ]
  },
  {
   "cell_type": "markdown",
   "metadata": {},
   "source": [
    "### I wonder if these are correlated...\n",
    "- Scatter plot: distributions on diagonals, correlations on off-diagonals"
   ]
  },
  {
   "cell_type": "code",
   "execution_count": null,
   "metadata": {},
   "outputs": [],
   "source": [
    "pd.plotting.scatter_matrix(rigid_molecules[[\"homo\", \"gap\", \"dipole\"]], alpha=0.2, figsize=(10, 10), diagonal='kde');"
   ]
  }
 ],
 "metadata": {
  "kernelspec": {
   "display_name": "Python (my-rdkit-env)",
   "language": "python",
   "name": "my-rdkit-env"
  },
  "language_info": {
   "codemirror_mode": {
    "name": "ipython",
    "version": 3
   },
   "file_extension": ".py",
   "mimetype": "text/x-python",
   "name": "python",
   "nbconvert_exporter": "python",
   "pygments_lexer": "ipython3",
   "version": "3.6.8"
  }
 },
 "nbformat": 4,
 "nbformat_minor": 2
}
