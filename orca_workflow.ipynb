{
 "cells": [
  {
   "cell_type": "markdown",
   "metadata": {},
   "source": [
    "# Computational chemistry workflow with Jupyter notebook\n",
    "\n",
    "- Exercise for SSCC-19\n",
    "- Markus Rauhalahti, markus.rauhalahti@helsinki.fi, mrauha.github.io\n",
    "\n",
    "- For setting up, see README.md"
   ]
  },
  {
   "cell_type": "markdown",
   "metadata": {},
   "source": [
    "## Used libraries\n",
    "\n",
    "Install deepdi"
   ]
  },
  {
   "cell_type": "code",
   "execution_count": null,
   "metadata": {},
   "outputs": [],
   "source": [
    "! pip install --user deepdish"
   ]
  },
  {
   "cell_type": "code",
   "execution_count": null,
   "metadata": {},
   "outputs": [],
   "source": [
    "# General\n",
    "import os\n",
    "\n",
    "# Data wrangling\n",
    "import pandas as pd\n",
    "import numpy as np\n",
    "import deepdish\n",
    "\n",
    "\n",
    "# Visualization\n",
    "import matplotlib.pyplot as plt\n",
    "%matplotlib inline"
   ]
  },
  {
   "cell_type": "markdown",
   "metadata": {},
   "source": [
    "## Reading in the molecules\n",
    "\n",
    "- Fragrance dataset from [GDB](http://gdb.unibe.ch/)\n",
    "    - [Ruddigkeit, Lars, Mahendra Awale, and Jean-Louis Reymond. \"Expanding the fragrance chemical space for virtual screening.\" Journal of cheminformatics 6.1 (2014): 27](https://jcheminf.biomedcentral.com/articles/10.1186/1758-2946-6-27)\n",
    "- In Simplified molecular-input line-entry system (SMILES) format, see [wiki](https://en.wikipedia.org/wiki/Simplified_molecular-input_line-entry_system)\n",
    "    - String representation of molecular graph. Only connectivity, elements, valence, charge information - no 3D structures.\n",
    "   \n",
    "- From these, the molecules with no rotatable bonds were chosen and converted to a .xyz format (2D $\\to$ 3D). \n",
    "    - This was done using rdkit. \n",
    "- The input data is given as a pandas dataframe. "
   ]
  },
  {
   "cell_type": "code",
   "execution_count": null,
   "metadata": {},
   "outputs": [],
   "source": [
    "rigid_molecules = pd.read_csv(\"rigid_molecules.csv\")\n",
    "print(\"Number of molecules: {}\".format(rigid_molecules.shape[0]))\n",
    "rigid_molecules.head(n=2)"
   ]
  },
  {
   "cell_type": "markdown",
   "metadata": {},
   "source": [
    "# Time to calculate some properties!\n",
    "\n",
    "- We want to optimize the molecular geometries and obtain some molecular properties\n",
    "- Input files are written in ./orca_calculations/{system_index}"
   ]
  },
  {
   "cell_type": "code",
   "execution_count": null,
   "metadata": {},
   "outputs": [],
   "source": [
    "calcbase = os.path.join(os.getcwd(), \"orca_calculations\")\n",
    "\n",
    "for system_index, row in rigid_molecules.iterrows():\n",
    "    #if system_index > 0: break\n",
    "    xyz = row[\"xyz\"]    \n",
    "    xyz_no_header = \"\\n\".join(xyz.split(\"\\n\")[2:])\n",
    "    orca_input = \"! b97-3c opt\\n%maxcore 5000\\n* xyz 0 1\\n{}\\n*\".format(xyz_no_header)\n",
    "    \n",
    "    # Write input files \n",
    "    \n",
    "    calcdir = os.path.join(calcbase, str(system_index))\n",
    "    if not os.path.exists(calcdir):\n",
    "        os.makedirs(calcdir)\n",
    "        \n",
    "    with open(os.path.join(calcdir, \"orca.inp\"), 'w') as f:\n",
    "        f.write(orca_input)\n",
    "        "
   ]
  },
  {
   "cell_type": "markdown",
   "metadata": {},
   "source": [
    "The inputs look like this:\n",
    "\n",
    "```\n",
    "! b97-3c opt                 <- geometry optimization using the b97-3c method\n",
    "%maxcore 5000                <- memory per core\n",
    "* xyz 0 1                    <- charge, multiplicity\n",
    "C  1.8375  -0.2027  -0.3278  <- xyz coordinates\n",
    "...\n",
    "*\n",
    "```"
   ]
  },
  {
   "cell_type": "markdown",
   "metadata": {},
   "source": [
    "- This is then sent to taito, let's say to $WRKDIR/wflow_example. \n",
    "\n",
    "- In this directory, we get the paths of the input files and save to calcdirs.txt\n",
    "\n",
    "```bash\n",
    "for i in $(find $(pwd) -name \"*inp\"); do echo $(dirname $i); done > calcdirs.txt\n",
    "```\n",
    "- SLURM array job:\n",
    "\n",
    "```\n",
    "#!/bin/bash -l\n",
    "#SBATCH -p serial\n",
    "#SBATCH -n 1             # total nuber of cores  \n",
    "#SBATCH -t 01:00:00        # time as hh:mm:ss\n",
    "#SBATCH -J array_hc_FNAME\n",
    "#SBATCH -e arrayjob_%A_%a.err\n",
    "#SBATCH -o arrayjob_%A_%a.out\n",
    "#SBATCH --mem-per-cpu=5000  # requested memory per process in MB\n",
    "#SBATCH --array=1-183\n",
    "\n",
    "SDIR=$(pwd)\n",
    "module load orca-env/4.0.1.2\n",
    "\n",
    "\n",
    "dir=$(sed -n \"$SLURM_ARRAY_TASK_ID\"p calcdirs.txt)\n",
    "\n",
    "\n",
    "cd $dir\n",
    "\n",
    "start=$(date +%s)\n",
    "printf \"Starting $dir ...\"\n",
    "\n",
    "$USERAPPL/orca_4_0_1_2_linux_x86-64_openmpi202/orca  orca.inp > orca.out\n",
    "\n",
    "end=$(date +%s)\n",
    "runtime=$( echo \"$end - $start\" | bc -l )\n",
    "printf \"done, time: $runtime s\\n\"\n",
    "\n",
    "\n",
    "echo $dir >> $SDIR/donecalcs.txt\n",
    "cd $SDIR\n",
    "```"
   ]
  },
  {
   "cell_type": "markdown",
   "metadata": {},
   "source": [
    "# Parsing the results\n",
    "\n",
    "- The results are parsed on taito with the following script\n",
    "- Parsing is done with the [cclib](https://cclib.github.io/) library\n",
    "- Outputs are saved in .h5 format using deepdish\n",
    "\n",
    "```python\n",
    "import cclib\n",
    "import io\n",
    "import os\n",
    "import deepdish\n",
    "\n",
    "def parse_out(path):\n",
    "    resdir = {}\n",
    "    resdir[\"System\"] = system\n",
    "    try:\n",
    "        with open(os.path.join(path, \"orca.out\")) as f:\n",
    "            inp = f.read()\n",
    "    except:\n",
    "        resdir[\"Error\"] : \"NoOutput\"\n",
    "        return resdir\n",
    "\n",
    "    checkline = inp.split(\"\\n\")[-3]\n",
    "\n",
    "    if \"ORCA TERMINATED NORMALLY\" not in checkline:\n",
    "        resdir[\"Error\"] = \"CalcError\"\n",
    "        return resdir\n",
    "\n",
    "    try:\n",
    "        inp_io = io.StringIO(inp)\n",
    "        parser = cclib.io.ccopen(inp_io)\n",
    "        data = parser.parse()\n",
    "        results = cclib.io.cjsonwriter.CJSON(data).as_dict()\n",
    "        resdir[\"calcres\"] = results\n",
    "        return resdir\n",
    "    except:\n",
    "        resdir[\"Error\"] : \"CantParse\"\n",
    "        return resdir\n",
    "\n",
    "with open(calcpath_file, 'r') as f:\n",
    "    calcpaths = f.readlines()\n",
    "calcpaths = [r.strip() for r in calcpaths]\n",
    "\n",
    "results = {}\n",
    "for path in calcpaths:\n",
    "    system = int(path.split(\"/\")[-1])\n",
    "    result_dict = parse_out(path)\n",
    "    results[system] = result_dict\n",
    "\n",
    "deepdish.io.save(\"cclib_results.h5\", results)\t\n",
    "```"
   ]
  },
  {
   "cell_type": "markdown",
   "metadata": {},
   "source": [
    "## Add HOMO, gap energies to the dataframe\n",
    "\n",
    "- Transfer the cclib_results.h5 from taito, parse some values\n",
    "    - In .h5 format, opened with deepdish\n"
   ]
  },
  {
   "cell_type": "code",
   "execution_count": null,
   "metadata": {},
   "outputs": [],
   "source": [
    "cclib_results = deepdish.io.load(\"cclib_results.h5\")"
   ]
  },
  {
   "cell_type": "markdown",
   "metadata": {},
   "source": [
    "cclib_results is a nested dictionary. Top level key is the system index, and it contains a lot of stuff parsed from the output."
   ]
  },
  {
   "cell_type": "code",
   "execution_count": null,
   "metadata": {},
   "outputs": [],
   "source": [
    "cclib_results[0][\"calcres\"][\"properties\"]"
   ]
  },
  {
   "cell_type": "markdown",
   "metadata": {},
   "source": [
    "For our purpose, we only get the HOMO and gap"
   ]
  },
  {
   "cell_type": "code",
   "execution_count": null,
   "metadata": {},
   "outputs": [],
   "source": [
    "properties = {}\n",
    "for system_index in cclib_results:\n",
    "    try:\n",
    "        homo = cclib_results[system_index][\"calcres\"][\"properties\"][\"energy\"][\"alpha\"][\"homo\"]\n",
    "        gap = cclib_results[system_index][\"calcres\"][\"properties\"][\"energy\"][\"alpha\"][\"gap\"]\n",
    "        dipole = cclib_results[system_index][\"calcres\"][\"properties\"]['total dipole moment']\n",
    "        properties[system_index] = {\"homo\" : homo, \n",
    "                              \"gap\" : gap, \n",
    "                              \"dipole\" : dipole}\n",
    "    except:\n",
    "        # Not all molecules have data as their calculation didn't converge\n",
    "        pass\n",
    "    \n",
    "    \n",
    "properties_df = pd.DataFrame.from_dict(properties, orient=\"index\")\n",
    "rigid_molecules = pd.concat([rigid_molecules, properties_df], axis=1)"
   ]
  },
  {
   "cell_type": "code",
   "execution_count": null,
   "metadata": {},
   "outputs": [],
   "source": [
    "rigid_molecules.head(n=2)"
   ]
  },
  {
   "cell_type": "markdown",
   "metadata": {},
   "source": [
    "# See how properties are distributed"
   ]
  },
  {
   "cell_type": "code",
   "execution_count": null,
   "metadata": {},
   "outputs": [],
   "source": [
    "rigid_molecules[\"homo\"].hist(bins=20)\n",
    "plt.xlabel(\"E(HOMO) (eV)\")\n",
    "plt.ylabel(\"Count\")"
   ]
  },
  {
   "cell_type": "code",
   "execution_count": null,
   "metadata": {},
   "outputs": [],
   "source": [
    "rigid_molecules[\"gap\"].hist(bins=20)\n",
    "plt.xlabel(\"HOMO-LUMO gap (eV)\")\n",
    "plt.ylabel(\"Count\")"
   ]
  },
  {
   "cell_type": "code",
   "execution_count": null,
   "metadata": {},
   "outputs": [],
   "source": [
    "rigid_molecules[\"dipole\"].hist(bins=20)\n",
    "plt.xlabel(\"Dipole moment (debye)\")\n",
    "plt.ylabel(\"Count\")"
   ]
  },
  {
   "cell_type": "markdown",
   "metadata": {},
   "source": [
    "### I wonder if these are correlated...\n",
    "- Scatter plot: distributions on diagonals, correlations on off-diagonals"
   ]
  },
  {
   "cell_type": "code",
   "execution_count": null,
   "metadata": {},
   "outputs": [],
   "source": [
    "pd.plotting.scatter_matrix(rigid_molecules[[\"homo\", \"gap\", \"dipole\"]], alpha=0.2, figsize=(10, 10), diagonal='kde');"
   ]
  }
 ],
 "metadata": {
  "kernelspec": {
   "display_name": "Python (my-rdkit-env)",
   "language": "python",
   "name": "my-rdkit-env"
  },
  "language_info": {
   "codemirror_mode": {
    "name": "ipython",
    "version": 3
   },
   "file_extension": ".py",
   "mimetype": "text/x-python",
   "name": "python",
   "nbconvert_exporter": "python",
   "pygments_lexer": "ipython3",
   "version": "3.6.8"
  }
 },
 "nbformat": 4,
 "nbformat_minor": 2
}
